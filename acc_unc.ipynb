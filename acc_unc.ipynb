{
 "cells": [
  {
   "cell_type": "code",
   "execution_count": 1,
   "metadata": {},
   "outputs": [],
   "source": [
    "from pathlib import Path\n",
    "from scipy.stats import pearsonr\n",
    "import numpy as np\n",
    "\n",
    "import torch.nn as nn\n",
    "import matplotlib.pyplot as plt\n",
    "\n",
    "import uncertainties.uncertainties as unc\n",
    "import dataloaders as dl\n",
    "import models as m\n",
    "\n",
    "import inspect\n",
    "def retrieve_name(var):\n",
    "    callers_local_vars = inspect.currentframe().f_back.f_locals.items()\n",
    "    return [var_name for var_name, var_val in callers_local_vars if var_val is var]\n",
    "\n",
    "num=2000\n",
    "batch_size = 200\n",
    "test_num=2000\n",
    "def entropy(x):\n",
    "    return -x*np.log2(x) - (1-x)*np.log2(1-x)\n",
    "\n",
    "def generate_mlp(input_size: int, cfg= None, initial_dropout=0.5, output_layer=\"softmax\"):\n",
    "    if cfg is None:\n",
    "        cfg = [256, 512, 256, 2]\n",
    "    layers = [\n",
    "        nn.Flatten(),\n",
    "        nn.Linear(input_size, cfg[0]),\n",
    "        nn.ReLU(),\n",
    "        nn.Dropout(initial_dropout)\n",
    "    ]\n",
    "    if len(cfg) > 1:\n",
    "        for w1, w2 in zip(cfg[:-2], cfg[1:-1]):\n",
    "            layers += [nn.Linear(w1, w2), nn.ReLU(),nn.Dropout(initial_dropout)]\n",
    "    layers += [nn.Linear(cfg[-2], cfg[-1])]\n",
    "    model = nn.Sequential(*layers)\n",
    "    model.d = sum(cfg[i] * cfg[i + 1] for i in range(len(cfg) - 1))\n",
    "    return model\n",
    "\n",
    "import torch\n",
    "\n",
    "class Conv1d(nn.Module):\n",
    "    def __init__(self):\n",
    "        super().__init__()\n",
    "        self.model = nn.Sequential(\n",
    "            nn.Conv1d(1, 50, 4),\n",
    "            nn.Conv1d(50, 100, 4),\n",
    "            nn.MaxPool1d(4), #output size = 300\n",
    "            nn.Flatten(),\n",
    "            nn.Linear(300, 64),\n",
    "            nn.LeakyReLU(),\n",
    "            nn.Dropout(.5),\n",
    "            nn.Linear(64, 64),\n",
    "            nn.LeakyReLU(),\n",
    "            nn.Dropout(.5),\n",
    "            nn.Linear(64, 32),\n",
    "            nn.LeakyReLU(),\n",
    "            nn.Dropout(.5),\n",
    "            nn.Linear(32, 2),\n",
    "            )\n",
    "    def forward(self, x):\n",
    "        return self.model(x.view(x.size(0),1,-1))\n",
    "conv1d_model = Conv1d()\n"
   ]
  },
  {
   "cell_type": "code",
   "execution_count": 4,
   "metadata": {},
   "outputs": [],
   "source": []
  },
  {
   "cell_type": "code",
   "execution_count": 5,
   "metadata": {},
   "outputs": [],
   "source": []
  },
  {
   "cell_type": "code",
   "execution_count": 7,
   "metadata": {},
   "outputs": [],
   "source": []
  },
  {
   "cell_type": "markdown",
   "metadata": {},
   "source": [
    "# Definicja niepewności"
   ]
  },
  {
   "cell_type": "code",
   "execution_count": 8,
   "metadata": {},
   "outputs": [],
   "source": [
    "num=2000\n",
    "batch_size = 200\n",
    "test_num=2000\n",
    "def calculate(num, cfg):\n",
    "    model = cfg if not isinstance(cfg, list) else generate_mlp(20, cfg)\n",
    "    device='cuda:0'\n",
    "    data_loader_train, data_loader_test, data_loader_train_r, data_loader_test_r = dl.get_dataloaders(num, batch_size)\n",
    "    contextual_data_loader = dl.get_dataloaders_c(test_num, batch_size)\n",
    "\n",
    "    classifier = m.Classifier(data_loader_train, data_loader_test, model, device)\n",
    "    accuracies = classifier.train_and_eval()\n",
    "    preds, gt = classifier.pred(contextual_data_loader)\n",
    "    dropout_var, dropout_mean, dropout_raw_var = unc.get_preds_dropout(contextual_data_loader, classifier.model, device)\n",
    "    laplace_var, laplace_mean = unc.get_preds_laplace(data_loader_train, contextual_data_loader, classifier.model, device)\n",
    "    dists=[]\n",
    "    for X, y in contextual_data_loader:\n",
    "        dists.extend([dl.projection_distance(x.numpy()) for x in X])\n",
    "    values = [preds, entropy(preds), laplace_mean, entropy(laplace_mean), dropout_mean, entropy(dropout_mean), laplace_var, dropout_var, dropout_raw_var]\n",
    "    return np.mean(dropout_var), np.mean(laplace_var), np.mean(dropout_raw_var), accuracies, values, dists"
   ]
  },
  {
   "cell_type": "code",
   "execution_count": 9,
   "metadata": {},
   "outputs": [
    {
     "name": "stdout",
     "output_type": "stream",
     "text": [
      "Classifier learn has finished with acc: 0.512\n",
      "Test acc: 0.464\n"
     ]
    },
    {
     "ename": "ValueError",
     "evalue": "too many values to unpack (expected 3)",
     "output_type": "error",
     "traceback": [
      "\u001B[0;31m---------------------------------------------------------------------------\u001B[0m",
      "\u001B[0;31mValueError\u001B[0m                                Traceback (most recent call last)",
      "\u001B[0;32m/tmp/ipykernel_6052/1483783592.py\u001B[0m in \u001B[0;36m<module>\u001B[0;34m\u001B[0m\n\u001B[1;32m     12\u001B[0m \u001B[0;32mfor\u001B[0m \u001B[0mn\u001B[0m \u001B[0;32min\u001B[0m \u001B[0mcfgs\u001B[0m\u001B[0;34m:\u001B[0m\u001B[0;34m\u001B[0m\u001B[0;34m\u001B[0m\u001B[0m\n\u001B[1;32m     13\u001B[0m     \u001B[0mr\u001B[0m \u001B[0;34m=\u001B[0m \u001B[0mmap\u001B[0m\u001B[0;34m(\u001B[0m\u001B[0;32mlambda\u001B[0m \u001B[0mx\u001B[0m\u001B[0;34m:\u001B[0m \u001B[0mcalculate\u001B[0m\u001B[0;34m(\u001B[0m\u001B[0mx\u001B[0m\u001B[0;34m,\u001B[0m \u001B[0mn\u001B[0m\u001B[0;34m)\u001B[0m\u001B[0;34m,\u001B[0m \u001B[0mrange\u001B[0m\u001B[0;34m(\u001B[0m\u001B[0;36m500\u001B[0m\u001B[0;34m,\u001B[0m \u001B[0;36m30000\u001B[0m\u001B[0;34m,\u001B[0m \u001B[0;36m500\u001B[0m\u001B[0;34m)\u001B[0m\u001B[0;34m)\u001B[0m\u001B[0;34m\u001B[0m\u001B[0;34m\u001B[0m\u001B[0m\n\u001B[0;32m---> 14\u001B[0;31m     \u001B[0mresults\u001B[0m\u001B[0;34m.\u001B[0m\u001B[0mappend\u001B[0m\u001B[0;34m(\u001B[0m\u001B[0mlist\u001B[0m\u001B[0;34m(\u001B[0m\u001B[0mr\u001B[0m\u001B[0;34m)\u001B[0m\u001B[0;34m)\u001B[0m\u001B[0;34m\u001B[0m\u001B[0;34m\u001B[0m\u001B[0m\n\u001B[0m\u001B[1;32m     15\u001B[0m     \u001B[0mprint\u001B[0m\u001B[0;34m(\u001B[0m\u001B[0;34mf\"skończyłem {n}\"\u001B[0m\u001B[0;34m)\u001B[0m\u001B[0;34m\u001B[0m\u001B[0;34m\u001B[0m\u001B[0m\n",
      "\u001B[0;32m/tmp/ipykernel_6052/1483783592.py\u001B[0m in \u001B[0;36m<lambda>\u001B[0;34m(x)\u001B[0m\n\u001B[1;32m     11\u001B[0m \u001B[0;34m\u001B[0m\u001B[0m\n\u001B[1;32m     12\u001B[0m \u001B[0;32mfor\u001B[0m \u001B[0mn\u001B[0m \u001B[0;32min\u001B[0m \u001B[0mcfgs\u001B[0m\u001B[0;34m:\u001B[0m\u001B[0;34m\u001B[0m\u001B[0;34m\u001B[0m\u001B[0m\n\u001B[0;32m---> 13\u001B[0;31m     \u001B[0mr\u001B[0m \u001B[0;34m=\u001B[0m \u001B[0mmap\u001B[0m\u001B[0;34m(\u001B[0m\u001B[0;32mlambda\u001B[0m \u001B[0mx\u001B[0m\u001B[0;34m:\u001B[0m \u001B[0mcalculate\u001B[0m\u001B[0;34m(\u001B[0m\u001B[0mx\u001B[0m\u001B[0;34m,\u001B[0m \u001B[0mn\u001B[0m\u001B[0;34m)\u001B[0m\u001B[0;34m,\u001B[0m \u001B[0mrange\u001B[0m\u001B[0;34m(\u001B[0m\u001B[0;36m500\u001B[0m\u001B[0;34m,\u001B[0m \u001B[0;36m30000\u001B[0m\u001B[0;34m,\u001B[0m \u001B[0;36m500\u001B[0m\u001B[0;34m)\u001B[0m\u001B[0;34m)\u001B[0m\u001B[0;34m\u001B[0m\u001B[0;34m\u001B[0m\u001B[0m\n\u001B[0m\u001B[1;32m     14\u001B[0m     \u001B[0mresults\u001B[0m\u001B[0;34m.\u001B[0m\u001B[0mappend\u001B[0m\u001B[0;34m(\u001B[0m\u001B[0mlist\u001B[0m\u001B[0;34m(\u001B[0m\u001B[0mr\u001B[0m\u001B[0;34m)\u001B[0m\u001B[0;34m)\u001B[0m\u001B[0;34m\u001B[0m\u001B[0;34m\u001B[0m\u001B[0m\n\u001B[1;32m     15\u001B[0m     \u001B[0mprint\u001B[0m\u001B[0;34m(\u001B[0m\u001B[0;34mf\"skończyłem {n}\"\u001B[0m\u001B[0;34m)\u001B[0m\u001B[0;34m\u001B[0m\u001B[0;34m\u001B[0m\u001B[0m\n",
      "\u001B[0;32m/tmp/ipykernel_6052/4132499296.py\u001B[0m in \u001B[0;36mcalculate\u001B[0;34m(num, cfg)\u001B[0m\n\u001B[1;32m     11\u001B[0m     \u001B[0maccuracies\u001B[0m \u001B[0;34m=\u001B[0m \u001B[0mclassifier\u001B[0m\u001B[0;34m.\u001B[0m\u001B[0mtrain_and_eval\u001B[0m\u001B[0;34m(\u001B[0m\u001B[0;34m)\u001B[0m\u001B[0;34m\u001B[0m\u001B[0;34m\u001B[0m\u001B[0m\n\u001B[1;32m     12\u001B[0m     \u001B[0mpreds\u001B[0m\u001B[0;34m,\u001B[0m \u001B[0mgt\u001B[0m \u001B[0;34m=\u001B[0m \u001B[0mclassifier\u001B[0m\u001B[0;34m.\u001B[0m\u001B[0mpred\u001B[0m\u001B[0;34m(\u001B[0m\u001B[0mcontextual_data_loader\u001B[0m\u001B[0;34m)\u001B[0m\u001B[0;34m\u001B[0m\u001B[0;34m\u001B[0m\u001B[0m\n\u001B[0;32m---> 13\u001B[0;31m     \u001B[0mdropout_var\u001B[0m\u001B[0;34m,\u001B[0m \u001B[0mdropout_mean\u001B[0m\u001B[0;34m,\u001B[0m \u001B[0mdropout_raw_var\u001B[0m \u001B[0;34m=\u001B[0m \u001B[0munc\u001B[0m\u001B[0;34m.\u001B[0m\u001B[0mget_preds_dropout\u001B[0m\u001B[0;34m(\u001B[0m\u001B[0mcontextual_data_loader\u001B[0m\u001B[0;34m,\u001B[0m \u001B[0mclassifier\u001B[0m\u001B[0;34m.\u001B[0m\u001B[0mmodel\u001B[0m\u001B[0;34m,\u001B[0m \u001B[0mdevice\u001B[0m\u001B[0;34m)\u001B[0m\u001B[0;34m\u001B[0m\u001B[0;34m\u001B[0m\u001B[0m\n\u001B[0m\u001B[1;32m     14\u001B[0m     \u001B[0mlaplace_var\u001B[0m\u001B[0;34m,\u001B[0m \u001B[0mlaplace_mean\u001B[0m \u001B[0;34m=\u001B[0m \u001B[0munc\u001B[0m\u001B[0;34m.\u001B[0m\u001B[0mget_preds_laplace\u001B[0m\u001B[0;34m(\u001B[0m\u001B[0mdata_loader_train\u001B[0m\u001B[0;34m,\u001B[0m \u001B[0mcontextual_data_loader\u001B[0m\u001B[0;34m,\u001B[0m \u001B[0mclassifier\u001B[0m\u001B[0;34m.\u001B[0m\u001B[0mmodel\u001B[0m\u001B[0;34m,\u001B[0m \u001B[0mdevice\u001B[0m\u001B[0;34m)\u001B[0m\u001B[0;34m\u001B[0m\u001B[0;34m\u001B[0m\u001B[0m\n\u001B[1;32m     15\u001B[0m     \u001B[0mdists\u001B[0m\u001B[0;34m=\u001B[0m\u001B[0;34m[\u001B[0m\u001B[0;34m]\u001B[0m\u001B[0;34m\u001B[0m\u001B[0;34m\u001B[0m\u001B[0m\n",
      "\u001B[0;31mValueError\u001B[0m: too many values to unpack (expected 3)"
     ]
    }
   ],
   "source": [
    "results = [] \n",
    "cfgs = [[32,32,16,16,2], [64,32,16,2], [128,64,16,2], [128,32,16,2], [64,16,2], [32,16,2]]\n",
    "\n",
    "\n",
    "\n",
    "cfgs = [conv1d_model, [128,64,16,2], [64,32,16,2], [64,16,2]]\n",
    "\n",
    "\n",
    "\n",
    "\n",
    "\n",
    "for n in cfgs:\n",
    "    r = map(lambda x: calculate(x, n), range(500, 30000, 500))\n",
    "    results.append(list(r))\n",
    "    print(f\"skończyłem {n}\")"
   ]
  },
  {
   "cell_type": "code",
   "execution_count": null,
   "metadata": {
    "scrolled": true
   },
   "outputs": [],
   "source": [
    "plt.figure(figsize=(18, 16), dpi=80)\n",
    "num=len(results)\n",
    "for i in range(num):        \n",
    "    ax1 = plt.subplot(num,1,i+1)\n",
    "    ax2 = ax1.twinx()\n",
    "    ax3 = ax1.twinx()\n",
    "    ax1.set_xlabel('Number of training data')\n",
    "    ax1.set_ylabel('Accuracy')\n",
    "    ax2.set_ylabel('Uncertainty')\n",
    "    ax3.set_ylabel('Pearson correlation preds with distance')\n",
    "    ax1.grid(False)\n",
    "    ax2.grid(False)\n",
    "    ax3.grid(False)\n",
    "    ax3.spines.right.set_position((\"axes\", 1.15))\n",
    "    #ax4 = ax1.twinx()\n",
    "    #ax4.set_ylabel('Pearson correlation DO with distance')\n",
    "    #ax4.spines.right.set_position((\"axes\", 1.25))\n",
    "\n",
    "    ax1.plot(range(500, 30000, 500), [elem[3][1] for elem in results[i]], label = 'm' + str(i), linestyle='dotted')\n",
    "    ax2.plot(range(500, 30000, 500), list(map(entropy, np.array(results, dtype=object)[i][:, 0]/100)), label = 'm' + str(i))\n",
    "    ax2.legend(loc=4)\n",
    "    ax3.plot(range(500, 30000, 500), [-pearsonr(a,b)[0] for a,b in zip([k[5] for k in results[i]], [k[4][-2] for k in results[i]])], label = 'm' + str(i), linestyle='dashdot')\n",
    "    ax3.plot(range(500, 30000, 500), [pearsonr(a,b)[0] for a,b in zip([k[5] for k in results[i]], [k[4][0] for k in results[i]])],label = 'm' + str(i), linestyle='dashed')\n",
    "#plt.set_title(\"Accuracy and Uncertainty vs number of training data in Dropout MCMC\")"
   ]
  },
  {
   "cell_type": "code",
   "execution_count": null,
   "metadata": {
    "scrolled": true
   },
   "outputs": [],
   "source": [
    "fig, ax1 = plt.subplots(figsize=(10,10))\n",
    "ax2 = ax1.twinx()\n",
    "ax1.set_xlabel('Number of training data')\n",
    "ax1.set_ylabel('Accuracy')\n",
    "ax2.set_ylabel('Uncertainty')\n",
    "for i in range(3):\n",
    "    print(i)\n",
    "    ax1.plot(range(2000, 20000, 500), [elem[3][0] for elem in results[i]], label = 'm' + str(i), linestyle='dotted')\n",
    "    ax2.plot(range(2000, 20000, 500), np.array(results, dtype=object)[i][:, 1], label = 'm' + str(i))\n",
    "ax2.legend(loc=4)\n",
    "ax2.set_title(\"Accuracy and Uncertainty vs number of training data in Laplace\")"
   ]
  },
  {
   "cell_type": "code",
   "execution_count": null,
   "metadata": {},
   "outputs": [],
   "source": [
    "from scipy.stats import pearsonr\n",
    "for i in range(5):\n",
    "    print(pearsonr([elem[3][1] for elem in results[i]],\n",
    "                   list(map(entropy, np.array(results, dtype=object)[i][:, 0]/100)))\n",
    "         )"
   ]
  },
  {
   "cell_type": "code",
   "execution_count": null,
   "metadata": {},
   "outputs": [],
   "source": [
    "plt.plot(list(map(entropy, np.array(results, dtype=object)[2][:, 0]/100)))"
   ]
  },
  {
   "cell_type": "markdown",
   "metadata": {},
   "source": [
    "# Pojedyncza sieć - analiza"
   ]
  },
  {
   "cell_type": "code",
   "execution_count": null,
   "metadata": {
    "scrolled": false
   },
   "outputs": [],
   "source": [
    "def plot_histograms(arr, idx, arr2=None):\n",
    "    if arr2 is None:\n",
    "        fig, (ax1, ax2) = plt.subplots(2, figsize=(10,10), sharex=True)\n",
    "        ax1.hist(arr[idx])\n",
    "        ax2.hist(arr)\n",
    "    else:\n",
    "        fig, ((ax1, ax3), (ax2, ax4)) = plt.subplots(2,2, figsize=(10,10), sharex=\"col\")\n",
    "        ax1.hist(arr[idx])\n",
    "        ax2.hist(arr)\n",
    "        ax3.hist(arr2[idx])\n",
    "        ax4.hist(arr2)"
   ]
  },
  {
   "cell_type": "code",
   "execution_count": null,
   "metadata": {},
   "outputs": [],
   "source": [
    "def entropy_new(x):\n",
    "    if x == 0:\n",
    "        return 0\n",
    "    elif x == 1:\n",
    "        return 0\n",
    "    else:\n",
    "        return -x*np.log2(x) - (1-x)*np.log2(1-x)"
   ]
  },
  {
   "cell_type": "code",
   "execution_count": 9,
   "metadata": {
    "scrolled": false
   },
   "outputs": [
    {
     "ename": "RuntimeError",
     "evalue": "CUDA error: out of memory\nCUDA kernel errors might be asynchronously reported at some other API call,so the stacktrace below might be incorrect.\nFor debugging consider passing CUDA_LAUNCH_BLOCKING=1.",
     "output_type": "error",
     "traceback": [
      "\u001B[0;31m---------------------------------------------------------------------------\u001B[0m",
      "\u001B[0;31mRuntimeError\u001B[0m                              Traceback (most recent call last)",
      "\u001B[0;32m/tmp/ipykernel_21692/3406004873.py\u001B[0m in \u001B[0;36m<module>\u001B[0;34m\u001B[0m\n\u001B[1;32m      9\u001B[0m \u001B[0;31m#contextual_data_loader= data_loader_test\u001B[0m\u001B[0;34m\u001B[0m\u001B[0;34m\u001B[0m\u001B[0;34m\u001B[0m\u001B[0m\n\u001B[1;32m     10\u001B[0m \u001B[0mclassifier\u001B[0m \u001B[0;34m=\u001B[0m \u001B[0mm\u001B[0m\u001B[0;34m.\u001B[0m\u001B[0mClassifier\u001B[0m\u001B[0;34m(\u001B[0m\u001B[0mdata_loader_train\u001B[0m\u001B[0;34m,\u001B[0m \u001B[0mdata_loader_test\u001B[0m\u001B[0;34m,\u001B[0m \u001B[0mmodel\u001B[0m\u001B[0;34m,\u001B[0m \u001B[0mdevice\u001B[0m\u001B[0;34m)\u001B[0m\u001B[0;34m\u001B[0m\u001B[0;34m\u001B[0m\u001B[0m\n\u001B[0;32m---> 11\u001B[0;31m \u001B[0maccuracies\u001B[0m \u001B[0;34m=\u001B[0m \u001B[0mclassifier\u001B[0m\u001B[0;34m.\u001B[0m\u001B[0mtrain_and_eval\u001B[0m\u001B[0;34m(\u001B[0m\u001B[0;34m)\u001B[0m\u001B[0;34m\u001B[0m\u001B[0;34m\u001B[0m\u001B[0m\n\u001B[0m\u001B[1;32m     12\u001B[0m \u001B[0mpreds\u001B[0m\u001B[0;34m,\u001B[0m \u001B[0mgt\u001B[0m \u001B[0;34m=\u001B[0m \u001B[0mclassifier\u001B[0m\u001B[0;34m.\u001B[0m\u001B[0mpred\u001B[0m\u001B[0;34m(\u001B[0m\u001B[0mcontextual_data_loader\u001B[0m\u001B[0;34m)\u001B[0m\u001B[0;34m\u001B[0m\u001B[0;34m\u001B[0m\u001B[0m\n\u001B[1;32m     13\u001B[0m \u001B[0mdropout_preds\u001B[0m \u001B[0;34m=\u001B[0m \u001B[0munc\u001B[0m\u001B[0;34m.\u001B[0m\u001B[0mget_preds_dropout\u001B[0m\u001B[0;34m(\u001B[0m\u001B[0mcontextual_data_loader\u001B[0m\u001B[0;34m,\u001B[0m \u001B[0mclassifier\u001B[0m\u001B[0;34m.\u001B[0m\u001B[0mmodel\u001B[0m\u001B[0;34m,\u001B[0m \u001B[0mdevice\u001B[0m\u001B[0;34m)\u001B[0m\u001B[0;34m\u001B[0m\u001B[0;34m\u001B[0m\u001B[0m\n",
      "\u001B[0;32m~/PycharmProjects/Contextuality-classification-with-uncertainty-estimation/models.py\u001B[0m in \u001B[0;36mtrain_and_eval\u001B[0;34m(self, alpha)\u001B[0m\n\u001B[1;32m    112\u001B[0m \u001B[0;34m\u001B[0m\u001B[0m\n\u001B[1;32m    113\u001B[0m     \u001B[0;32mdef\u001B[0m \u001B[0mtrain_and_eval\u001B[0m\u001B[0;34m(\u001B[0m\u001B[0mself\u001B[0m\u001B[0;34m,\u001B[0m \u001B[0malpha\u001B[0m\u001B[0;34m=\u001B[0m\u001B[0;36m0.001\u001B[0m\u001B[0;34m)\u001B[0m\u001B[0;34m:\u001B[0m\u001B[0;34m\u001B[0m\u001B[0;34m\u001B[0m\u001B[0m\n\u001B[0;32m--> 114\u001B[0;31m         \u001B[0mself\u001B[0m\u001B[0;34m.\u001B[0m\u001B[0mtrain\u001B[0m\u001B[0;34m(\u001B[0m\u001B[0malpha\u001B[0m\u001B[0;34m)\u001B[0m\u001B[0;34m\u001B[0m\u001B[0;34m\u001B[0m\u001B[0m\n\u001B[0m\u001B[1;32m    115\u001B[0m         \u001B[0mself\u001B[0m\u001B[0;34m.\u001B[0m\u001B[0meval\u001B[0m\u001B[0;34m(\u001B[0m\u001B[0;34m)\u001B[0m\u001B[0;34m\u001B[0m\u001B[0;34m\u001B[0m\u001B[0m\n\u001B[1;32m    116\u001B[0m         \u001B[0;32mreturn\u001B[0m \u001B[0mself\u001B[0m\u001B[0;34m.\u001B[0m\u001B[0mtest_acc\u001B[0m\u001B[0;34m,\u001B[0m \u001B[0mself\u001B[0m\u001B[0;34m.\u001B[0m\u001B[0mtrain_acc\u001B[0m\u001B[0;34m\u001B[0m\u001B[0;34m\u001B[0m\u001B[0m\n",
      "\u001B[0;32m~/PycharmProjects/Contextuality-classification-with-uncertainty-estimation/models.py\u001B[0m in \u001B[0;36mtrain\u001B[0;34m(self, alpha, lr)\u001B[0m\n\u001B[1;32m     49\u001B[0m         \u001B[0moptimizer\u001B[0m \u001B[0;34m=\u001B[0m \u001B[0moptim\u001B[0m\u001B[0;34m.\u001B[0m\u001B[0mAdam\u001B[0m\u001B[0;34m(\u001B[0m\u001B[0mself\u001B[0m\u001B[0;34m.\u001B[0m\u001B[0mmodel\u001B[0m\u001B[0;34m.\u001B[0m\u001B[0mparameters\u001B[0m\u001B[0;34m(\u001B[0m\u001B[0;34m)\u001B[0m\u001B[0;34m,\u001B[0m \u001B[0mlr\u001B[0m\u001B[0;34m=\u001B[0m\u001B[0mlr\u001B[0m\u001B[0;34m)\u001B[0m\u001B[0;34m\u001B[0m\u001B[0;34m\u001B[0m\u001B[0m\n\u001B[1;32m     50\u001B[0m         \u001B[0mself\u001B[0m\u001B[0;34m.\u001B[0m\u001B[0mmodel\u001B[0m\u001B[0;34m.\u001B[0m\u001B[0mtrain\u001B[0m\u001B[0;34m(\u001B[0m\u001B[0;34m)\u001B[0m\u001B[0;34m\u001B[0m\u001B[0;34m\u001B[0m\u001B[0m\n\u001B[0;32m---> 51\u001B[0;31m         \u001B[0mself\u001B[0m\u001B[0;34m.\u001B[0m\u001B[0mmodel\u001B[0m\u001B[0;34m.\u001B[0m\u001B[0mto\u001B[0m\u001B[0;34m(\u001B[0m\u001B[0mself\u001B[0m\u001B[0;34m.\u001B[0m\u001B[0m_device\u001B[0m\u001B[0;34m)\u001B[0m\u001B[0;34m\u001B[0m\u001B[0;34m\u001B[0m\u001B[0m\n\u001B[0m\u001B[1;32m     52\u001B[0m         \u001B[0;32mfor\u001B[0m \u001B[0mepoch\u001B[0m \u001B[0;32min\u001B[0m \u001B[0mrange\u001B[0m\u001B[0;34m(\u001B[0m\u001B[0;36m1\u001B[0m\u001B[0;34m,\u001B[0m \u001B[0mself\u001B[0m\u001B[0;34m.\u001B[0m\u001B[0m_epochs\u001B[0m\u001B[0;34m)\u001B[0m\u001B[0;34m:\u001B[0m\u001B[0;34m\u001B[0m\u001B[0;34m\u001B[0m\u001B[0m\n\u001B[1;32m     53\u001B[0m             \u001B[0mepoch_loss\u001B[0m \u001B[0;34m=\u001B[0m \u001B[0;36m0\u001B[0m\u001B[0;34m\u001B[0m\u001B[0;34m\u001B[0m\u001B[0m\n",
      "\u001B[0;32m~/.virtualenvs/jup/lib/python3.8/site-packages/torch/nn/modules/module.py\u001B[0m in \u001B[0;36mto\u001B[0;34m(self, *args, **kwargs)\u001B[0m\n\u001B[1;32m    897\u001B[0m             \u001B[0;32mreturn\u001B[0m \u001B[0mt\u001B[0m\u001B[0;34m.\u001B[0m\u001B[0mto\u001B[0m\u001B[0;34m(\u001B[0m\u001B[0mdevice\u001B[0m\u001B[0;34m,\u001B[0m \u001B[0mdtype\u001B[0m \u001B[0;32mif\u001B[0m \u001B[0mt\u001B[0m\u001B[0;34m.\u001B[0m\u001B[0mis_floating_point\u001B[0m\u001B[0;34m(\u001B[0m\u001B[0;34m)\u001B[0m \u001B[0;32mor\u001B[0m \u001B[0mt\u001B[0m\u001B[0;34m.\u001B[0m\u001B[0mis_complex\u001B[0m\u001B[0;34m(\u001B[0m\u001B[0;34m)\u001B[0m \u001B[0;32melse\u001B[0m \u001B[0;32mNone\u001B[0m\u001B[0;34m,\u001B[0m \u001B[0mnon_blocking\u001B[0m\u001B[0;34m)\u001B[0m\u001B[0;34m\u001B[0m\u001B[0;34m\u001B[0m\u001B[0m\n\u001B[1;32m    898\u001B[0m \u001B[0;34m\u001B[0m\u001B[0m\n\u001B[0;32m--> 899\u001B[0;31m         \u001B[0;32mreturn\u001B[0m \u001B[0mself\u001B[0m\u001B[0;34m.\u001B[0m\u001B[0m_apply\u001B[0m\u001B[0;34m(\u001B[0m\u001B[0mconvert\u001B[0m\u001B[0;34m)\u001B[0m\u001B[0;34m\u001B[0m\u001B[0;34m\u001B[0m\u001B[0m\n\u001B[0m\u001B[1;32m    900\u001B[0m \u001B[0;34m\u001B[0m\u001B[0m\n\u001B[1;32m    901\u001B[0m     def register_backward_hook(\n",
      "\u001B[0;32m~/.virtualenvs/jup/lib/python3.8/site-packages/torch/nn/modules/module.py\u001B[0m in \u001B[0;36m_apply\u001B[0;34m(self, fn)\u001B[0m\n\u001B[1;32m    568\u001B[0m     \u001B[0;32mdef\u001B[0m \u001B[0m_apply\u001B[0m\u001B[0;34m(\u001B[0m\u001B[0mself\u001B[0m\u001B[0;34m,\u001B[0m \u001B[0mfn\u001B[0m\u001B[0;34m)\u001B[0m\u001B[0;34m:\u001B[0m\u001B[0;34m\u001B[0m\u001B[0;34m\u001B[0m\u001B[0m\n\u001B[1;32m    569\u001B[0m         \u001B[0;32mfor\u001B[0m \u001B[0mmodule\u001B[0m \u001B[0;32min\u001B[0m \u001B[0mself\u001B[0m\u001B[0;34m.\u001B[0m\u001B[0mchildren\u001B[0m\u001B[0;34m(\u001B[0m\u001B[0;34m)\u001B[0m\u001B[0;34m:\u001B[0m\u001B[0;34m\u001B[0m\u001B[0;34m\u001B[0m\u001B[0m\n\u001B[0;32m--> 570\u001B[0;31m             \u001B[0mmodule\u001B[0m\u001B[0;34m.\u001B[0m\u001B[0m_apply\u001B[0m\u001B[0;34m(\u001B[0m\u001B[0mfn\u001B[0m\u001B[0;34m)\u001B[0m\u001B[0;34m\u001B[0m\u001B[0;34m\u001B[0m\u001B[0m\n\u001B[0m\u001B[1;32m    571\u001B[0m \u001B[0;34m\u001B[0m\u001B[0m\n\u001B[1;32m    572\u001B[0m         \u001B[0;32mdef\u001B[0m \u001B[0mcompute_should_use_set_data\u001B[0m\u001B[0;34m(\u001B[0m\u001B[0mtensor\u001B[0m\u001B[0;34m,\u001B[0m \u001B[0mtensor_applied\u001B[0m\u001B[0;34m)\u001B[0m\u001B[0;34m:\u001B[0m\u001B[0;34m\u001B[0m\u001B[0;34m\u001B[0m\u001B[0m\n",
      "\u001B[0;32m~/.virtualenvs/jup/lib/python3.8/site-packages/torch/nn/modules/module.py\u001B[0m in \u001B[0;36m_apply\u001B[0;34m(self, fn)\u001B[0m\n\u001B[1;32m    591\u001B[0m             \u001B[0;31m# `with torch.no_grad():`\u001B[0m\u001B[0;34m\u001B[0m\u001B[0;34m\u001B[0m\u001B[0;34m\u001B[0m\u001B[0m\n\u001B[1;32m    592\u001B[0m             \u001B[0;32mwith\u001B[0m \u001B[0mtorch\u001B[0m\u001B[0;34m.\u001B[0m\u001B[0mno_grad\u001B[0m\u001B[0;34m(\u001B[0m\u001B[0;34m)\u001B[0m\u001B[0;34m:\u001B[0m\u001B[0;34m\u001B[0m\u001B[0;34m\u001B[0m\u001B[0m\n\u001B[0;32m--> 593\u001B[0;31m                 \u001B[0mparam_applied\u001B[0m \u001B[0;34m=\u001B[0m \u001B[0mfn\u001B[0m\u001B[0;34m(\u001B[0m\u001B[0mparam\u001B[0m\u001B[0;34m)\u001B[0m\u001B[0;34m\u001B[0m\u001B[0;34m\u001B[0m\u001B[0m\n\u001B[0m\u001B[1;32m    594\u001B[0m             \u001B[0mshould_use_set_data\u001B[0m \u001B[0;34m=\u001B[0m \u001B[0mcompute_should_use_set_data\u001B[0m\u001B[0;34m(\u001B[0m\u001B[0mparam\u001B[0m\u001B[0;34m,\u001B[0m \u001B[0mparam_applied\u001B[0m\u001B[0;34m)\u001B[0m\u001B[0;34m\u001B[0m\u001B[0;34m\u001B[0m\u001B[0m\n\u001B[1;32m    595\u001B[0m             \u001B[0;32mif\u001B[0m \u001B[0mshould_use_set_data\u001B[0m\u001B[0;34m:\u001B[0m\u001B[0;34m\u001B[0m\u001B[0;34m\u001B[0m\u001B[0m\n",
      "\u001B[0;32m~/.virtualenvs/jup/lib/python3.8/site-packages/torch/nn/modules/module.py\u001B[0m in \u001B[0;36mconvert\u001B[0;34m(t)\u001B[0m\n\u001B[1;32m    895\u001B[0m                 return t.to(device, dtype if t.is_floating_point() or t.is_complex() else None,\n\u001B[1;32m    896\u001B[0m                             non_blocking, memory_format=convert_to_format)\n\u001B[0;32m--> 897\u001B[0;31m             \u001B[0;32mreturn\u001B[0m \u001B[0mt\u001B[0m\u001B[0;34m.\u001B[0m\u001B[0mto\u001B[0m\u001B[0;34m(\u001B[0m\u001B[0mdevice\u001B[0m\u001B[0;34m,\u001B[0m \u001B[0mdtype\u001B[0m \u001B[0;32mif\u001B[0m \u001B[0mt\u001B[0m\u001B[0;34m.\u001B[0m\u001B[0mis_floating_point\u001B[0m\u001B[0;34m(\u001B[0m\u001B[0;34m)\u001B[0m \u001B[0;32mor\u001B[0m \u001B[0mt\u001B[0m\u001B[0;34m.\u001B[0m\u001B[0mis_complex\u001B[0m\u001B[0;34m(\u001B[0m\u001B[0;34m)\u001B[0m \u001B[0;32melse\u001B[0m \u001B[0;32mNone\u001B[0m\u001B[0;34m,\u001B[0m \u001B[0mnon_blocking\u001B[0m\u001B[0;34m)\u001B[0m\u001B[0;34m\u001B[0m\u001B[0;34m\u001B[0m\u001B[0m\n\u001B[0m\u001B[1;32m    898\u001B[0m \u001B[0;34m\u001B[0m\u001B[0m\n\u001B[1;32m    899\u001B[0m         \u001B[0;32mreturn\u001B[0m \u001B[0mself\u001B[0m\u001B[0;34m.\u001B[0m\u001B[0m_apply\u001B[0m\u001B[0;34m(\u001B[0m\u001B[0mconvert\u001B[0m\u001B[0;34m)\u001B[0m\u001B[0;34m\u001B[0m\u001B[0;34m\u001B[0m\u001B[0m\n",
      "\u001B[0;31mRuntimeError\u001B[0m: CUDA error: out of memory\nCUDA kernel errors might be asynchronously reported at some other API call,so the stacktrace below might be incorrect.\nFor debugging consider passing CUDA_LAUNCH_BLOCKING=1."
     ]
    }
   ],
   "source": [
    "num=5000\n",
    "batch_size = 200\n",
    "test_num=20000\n",
    "model = generate_mlp(20, [128, 64,32,2])\n",
    "#model = conv1d_model\n",
    "device='cuda:0'\n",
    "data_loader_train, data_loader_test, data_loader_train_r, data_loader_test_r = dl.get_dataloaders(num, batch_size)\n",
    "contextual_data_loader = dl.get_dataloaders_c(test_num, batch_size)\n",
    "#contextual_data_loader= data_loader_test\n",
    "classifier = m.Classifier(data_loader_train, data_loader_test, model, device)\n",
    "accuracies = classifier.train_and_eval()\n",
    "preds, gt = classifier.pred(contextual_data_loader)\n",
    "dropout_preds = unc.get_preds_dropout(contextual_data_loader, classifier.model, device)\n",
    "laplace_preds = unc.get_preds_laplace(data_loader_train, contextual_data_loader, classifier.model, device)\n",
    "dists=[]\n",
    "for X, y in contextual_data_loader:\n",
    "    dists.extend([dl.projection_distance(x.numpy()) for x in X])"
   ]
  },
  {
   "cell_type": "code",
   "execution_count": 10,
   "metadata": {},
   "outputs": [
    {
     "data": {
      "text/plain": [
       "tensor([1, 0, 1, 0, 1, 1, 1, 1, 1, 1, 0, 1, 1, 0, 1, 0, 1, 1, 1, 1, 0, 1, 1, 0,\n",
       "        1, 0, 0, 1, 1, 0, 1, 1, 0, 1, 0, 0, 1, 1, 1, 1, 0, 1, 0, 0, 1, 0, 1, 0,\n",
       "        1, 0, 1, 0, 0, 0, 0, 1, 0, 0, 0, 0, 0, 0, 0, 1, 0, 1, 1, 0, 0, 1, 0, 1,\n",
       "        1, 1, 1, 0, 1, 0, 0, 0, 0, 0, 1, 1, 0, 1, 0, 0, 1, 1, 1, 0, 0, 0, 1, 0,\n",
       "        0, 0, 0, 0, 0, 1, 1, 0, 1, 0, 0, 0, 0, 0, 0, 0, 0, 1, 0, 0, 1, 0, 1, 0,\n",
       "        0, 1, 1, 0, 0, 0, 0, 0, 0, 1, 0, 1, 1, 1, 1, 0, 1, 0, 0, 0, 1, 1, 0, 1,\n",
       "        1, 0, 1, 1, 0, 0, 0, 0, 0, 0, 1, 0, 0, 1, 1, 1, 1, 1, 0, 0, 1, 1, 1, 1,\n",
       "        0, 1, 0, 1, 1, 1, 1, 0, 0, 1, 1, 1, 1, 0, 1, 1, 0, 1, 0, 1, 0, 0, 0, 1,\n",
       "        1, 1, 1, 0, 1, 1, 1, 1])"
      ]
     },
     "execution_count": 10,
     "metadata": {},
     "output_type": "execute_result"
    }
   ],
   "source": [
    "next(iter(data_loader_test))[1]"
   ]
  },
  {
   "cell_type": "code",
   "execution_count": 51,
   "metadata": {},
   "outputs": [],
   "source": [
    "dropout_uncertainties = unc.calculate_uncertainties(dropout_preds)[0]"
   ]
  },
  {
   "cell_type": "code",
   "execution_count": 52,
   "metadata": {
    "scrolled": true
   },
   "outputs": [
    {
     "data": {
      "text/plain": [
       "[<matplotlib.lines.Line2D at 0x7f5ad12f59d0>,\n",
       " <matplotlib.lines.Line2D at 0x7f5ad12f50a0>]"
      ]
     },
     "execution_count": 52,
     "metadata": {},
     "output_type": "execute_result"
    },
    {
     "data": {
      "image/png": "[encoded data removed]",
      "text/plain": [
       "<Figure size 432x288 with 1 Axes>"
      ]
     },
     "metadata": {
      "needs_background": "light"
     },
     "output_type": "display_data"
    }
   ],
   "source": [
    "a = np.where(preds<0.5)[0]\n",
    "plt.scatter(entropy(preds), entropy(np.mean(dropout_preds, axis=0)))\n",
    "plt.scatter(entropy(preds)[a], entropy(np.mean(dropout_preds, axis=0))[a], color='r')\n",
    "\n",
    "plt.plot([[0,0], [1,1]])"
   ]
  },
  {
   "cell_type": "code",
   "execution_count": null,
   "metadata": {},
   "outputs": [],
   "source": []
  },
  {
   "cell_type": "code",
   "execution_count": 39,
   "metadata": {},
   "outputs": [],
   "source": [
    "a = np.where(preds<0.5)[0]"
   ]
  },
  {
   "cell_type": "code",
   "execution_count": 30,
   "metadata": {},
   "outputs": [
    {
     "data": {
      "text/plain": [
       "<matplotlib.collections.PathCollection at 0x7f5ad1401250>"
      ]
     },
     "execution_count": 30,
     "metadata": {},
     "output_type": "execute_result"
    },
    {
     "data": {
      "image/png": "[encoded data removed]",
      "text/plain": [
       "<Figure size 432x288 with 1 Axes>"
      ]
     },
     "metadata": {
      "needs_background": "light"
     },
     "output_type": "display_data"
    }
   ],
   "source": [
    "plt.scatter(preds, entropy(np.mean(dropout_preds, axis=0)))"
   ]
  },
  {
   "cell_type": "code",
   "execution_count": 21,
   "metadata": {},
   "outputs": [
    {
     "data": {
      "text/plain": [
       "(array([6.0000e+00, 8.0000e+00, 2.7000e+01, 4.7000e+01, 1.2100e+02,\n",
       "        2.1300e+02, 5.0900e+02, 1.3570e+03, 5.8070e+03, 1.1905e+04]),\n",
       " array([0.39474627, 0.45521516, 0.515684  , 0.5761529 , 0.6366218 ,\n",
       "        0.6970906 , 0.75755954, 0.8180284 , 0.87849724, 0.93896616,\n",
       "        0.999435  ], dtype=float32),\n",
       " <BarContainer object of 10 artists>)"
      ]
     },
     "execution_count": 21,
     "metadata": {},
     "output_type": "execute_result"
    },
    {
     "data": {
      "image/png": "[encoded data removed]",
      "text/plain": [
       "<Figure size 432x288 with 1 Axes>"
      ]
     },
     "metadata": {
      "needs_background": "light"
     },
     "output_type": "display_data"
    }
   ],
   "source": [
    "plt.hist(preds)"
   ]
  },
  {
   "cell_type": "code",
   "execution_count": 19,
   "metadata": {},
   "outputs": [
    {
     "data": {
      "text/plain": [
       "<matplotlib.collections.PathCollection at 0x7f5ad1756460>"
      ]
     },
     "execution_count": 19,
     "metadata": {},
     "output_type": "execute_result"
    },
    {
     "data": {
      "image/png": "[encoded data removed]",
      "text/plain": [
       "<Figure size 432x288 with 1 Axes>"
      ]
     },
     "metadata": {
      "needs_background": "light"
     },
     "output_type": "display_data"
    }
   ],
   "source": [
    "plt.scatter(preds, dropout_uncertainties['mutual_info'])"
   ]
  },
  {
   "cell_type": "code",
   "execution_count": 44,
   "metadata": {},
   "outputs": [],
   "source": [
    "def analyse_uncertainties(x):\n",
    "    laplace_uncertainties = unc.calculate_uncertainties(laplace_preds)[1]\n",
    "    dropout_uncertainties = unc.calculate_uncertainties(dropout_preds)[1]\n",
    "    \n",
    "    fig, axs = plt.subplots(3,2, figsize=(10,15))\n",
    "    print(\"Raw correlation \", pearsonr(preds, dists)[0])\n",
    "    for i in range(3):\n",
    "        print(\"Laplace: \", str(pearsonr(x, laplace_uncertainties[i])[0]))\n",
    "        print(\"Dropout: \", str(pearsonr(x, dropout_uncertainties[i])[0]))\n",
    "        axs[i, 0].scatter(x, laplace_uncertainties[i])\n",
    "        axs[i, 1].scatter(x, dropout_uncertainties[i])\n",
    "    \n",
    "    for ax, col in zip(axs[0], [\"Laplace\", \"Dropout\"]):\n",
    "        ax.set_title(col)\n",
    "    for ax, row in zip(axs[:,0], [\"Entropy\", \"Mutual_info\", \"Var_ratio\"]):\n",
    "        ax.set_ylabel(row, rotation=0, size='large')"
   ]
  },
  {
   "cell_type": "code",
   "execution_count": 53,
   "metadata": {
    "scrolled": true
   },
   "outputs": [
    {
     "name": "stdout",
     "output_type": "stream",
     "text": [
      "Raw correlation  0.5563251586804489\n",
      "Laplace:  0.5492693950688501\n",
      "Dropout:  0.6486211088969807\n",
      "Laplace:  0.08539993355088907\n",
      "Dropout:  0.6204196405681157\n",
      "Laplace:  0.008479461205332592\n",
      "Dropout:  0.5377578362430073\n"
     ]
    },
    {
     "data": {
      "image/png": "[encoded data removed]",
      "text/plain": [
       "<Figure size 720x1080 with 6 Axes>"
      ]
     },
     "metadata": {
      "needs_background": "light"
     },
     "output_type": "display_data"
    }
   ],
   "source": [
    "analyse_uncertainties(dists)"
   ]
  },
  {
   "cell_type": "code",
   "execution_count": 28,
   "metadata": {},
   "outputs": [
    {
     "data": {
      "text/plain": [
       "<matplotlib.collections.PathCollection at 0x7f0fd5ca5790>"
      ]
     },
     "execution_count": 28,
     "metadata": {},
     "output_type": "execute_result"
    },
    {
     "data": {
      "image/png": "[encoded data removed]",
      "text/plain": [
       "<Figure size 432x288 with 1 Axes>"
      ]
     },
     "metadata": {
      "needs_background": "light"
     },
     "output_type": "display_data"
    }
   ],
   "source": [
    "plt.scatter(dists, var_ratio)"
   ]
  },
  {
   "cell_type": "code",
   "execution_count": 29,
   "metadata": {},
   "outputs": [
    {
     "data": {
      "text/plain": [
       "<matplotlib.collections.PathCollection at 0x7f0fd5f58be0>"
      ]
     },
     "execution_count": 29,
     "metadata": {},
     "output_type": "execute_result"
    },
    {
     "data": {
      "image/png": "[encoded data removed]",
      "text/plain": [
       "<Figure size 432x288 with 1 Axes>"
      ]
     },
     "metadata": {
      "needs_background": "light"
     },
     "output_type": "display_data"
    }
   ],
   "source": [
    "plt.scatter(dists, mutual_info)"
   ]
  },
  {
   "cell_type": "code",
   "execution_count": 30,
   "metadata": {},
   "outputs": [
    {
     "data": {
      "text/plain": [
       "<matplotlib.collections.PathCollection at 0x7f10002194c0>"
      ]
     },
     "execution_count": 30,
     "metadata": {},
     "output_type": "execute_result"
    },
    {
     "data": {
      "image/png": "[encoded data removed]",
      "text/plain": [
       "<Figure size 432x288 with 1 Axes>"
      ]
     },
     "metadata": {
      "needs_background": "light"
     },
     "output_type": "display_data"
    }
   ],
   "source": [
    "plt.scatter(dists, entropy)"
   ]
  },
  {
   "cell_type": "code",
   "execution_count": null,
   "metadata": {},
   "outputs": [],
   "source": [
    "unc.calculate_uncertainties()"
   ]
  },
  {
   "cell_type": "code",
   "execution_count": 73,
   "metadata": {
    "scrolled": true
   },
   "outputs": [
    {
     "data": {
      "text/plain": [
       "<matplotlib.collections.PathCollection at 0x7fd9fc1c4310>"
      ]
     },
     "execution_count": 73,
     "metadata": {},
     "output_type": "execute_result"
    },
    {
     "data": {
      "image/png": "[encoded data removed]",
      "text/plain": [
       "<Figure size 432x288 with 1 Axes>"
      ]
     },
     "metadata": {
      "needs_background": "light"
     },
     "output_type": "display_data"
    }
   ],
   "source": [
    "plt.scatter(preds, dropout_mean)"
   ]
  },
  {
   "cell_type": "code",
   "execution_count": 77,
   "metadata": {},
   "outputs": [
    {
     "data": {
      "text/plain": [
       "<matplotlib.collections.PathCollection at 0x7fd9fc255910>"
      ]
     },
     "execution_count": 77,
     "metadata": {},
     "output_type": "execute_result"
    },
    {
     "data": {
      "image/png": "[encoded data removed]",
      "text/plain": [
       "<Figure size 432x288 with 1 Axes>"
      ]
     },
     "metadata": {
      "needs_background": "light"
     },
     "output_type": "display_data"
    }
   ],
   "source": [
    "plt.scatter(entropy(preds), entropy(dropout_mean))"
   ]
  },
  {
   "cell_type": "code",
   "execution_count": 74,
   "metadata": {},
   "outputs": [],
   "source": [
    "def a(po):\n",
    "    print(pearsonr(dists, entropy(dropout_mean)))\n",
    "    plt.scatter(dists, entropy(dropout_mean))"
   ]
  },
  {
   "cell_type": "code",
   "execution_count": 75,
   "metadata": {},
   "outputs": [
    {
     "name": "stdout",
     "output_type": "stream",
     "text": [
      "(-0.7554220697197883, 0.0)\n"
     ]
    },
    {
     "data": {
      "image/png": "[encoded data removed]",
      "text/plain": [
       "<Figure size 432x288 with 1 Axes>"
      ]
     },
     "metadata": {
      "needs_background": "light"
     },
     "output_type": "display_data"
    }
   ],
   "source": [
    "a(1)"
   ]
  },
  {
   "cell_type": "code",
   "execution_count": 76,
   "metadata": {},
   "outputs": [
    {
     "name": "stdout",
     "output_type": "stream",
     "text": [
      "(-0.727927737911342, 0.0)\n"
     ]
    },
    {
     "data": {
      "text/plain": [
       "<matplotlib.collections.PathCollection at 0x7fd9fc2f4fa0>"
      ]
     },
     "execution_count": 76,
     "metadata": {},
     "output_type": "execute_result"
    },
    {
     "data": {
      "image/png": "[encoded data removed]",
      "text/plain": [
       "<Figure size 432x288 with 1 Axes>"
      ]
     },
     "metadata": {
      "needs_background": "light"
     },
     "output_type": "display_data"
    }
   ],
   "source": [
    "print(pearsonr(dists, entropy(preds)))\n",
    "plt.scatter(dists, entropy(preds))"
   ]
  },
  {
   "cell_type": "code",
   "execution_count": 28,
   "metadata": {},
   "outputs": [
    {
     "data": {
      "text/plain": [
       "(-0.6387495847124048, 0.0)"
      ]
     },
     "execution_count": 28,
     "metadata": {},
     "output_type": "execute_result"
    }
   ],
   "source": [
    "pearsonr(dists, entropy(dropout_mean))"
   ]
  },
  {
   "cell_type": "code",
   "execution_count": 29,
   "metadata": {},
   "outputs": [
    {
     "data": {
      "text/plain": [
       "(-0.559611281071095, 0.0)"
      ]
     },
     "execution_count": 29,
     "metadata": {},
     "output_type": "execute_result"
    }
   ],
   "source": [
    "pearsonr(dists, entropy(preds))"
   ]
  },
  {
   "cell_type": "code",
   "execution_count": 30,
   "metadata": {},
   "outputs": [
    {
     "data": {
      "image/png": "[encoded data removed]",
      "text/plain": [
       "<Figure size 720x720 with 2 Axes>"
      ]
     },
     "metadata": {
      "needs_background": "light"
     },
     "output_type": "display_data"
    }
   ],
   "source": [
    "idx = np.where(preds<0.5)\n",
    "plot_histograms(entropy(preds), idx)"
   ]
  },
  {
   "cell_type": "code",
   "execution_count": 21,
   "metadata": {},
   "outputs": [
    {
     "data": {
      "image/png": "[encoded data removed]",
      "text/plain": [
       "<Figure size 720x720 with 2 Axes>"
      ]
     },
     "metadata": {
      "needs_background": "light"
     },
     "output_type": "display_data"
    }
   ],
   "source": [
    "idx = np.where(preds<0.5)\n",
    "plot_histograms(entropy(dropout_mean), idx)"
   ]
  },
  {
   "cell_type": "code",
   "execution_count": 172,
   "metadata": {
    "scrolled": true
   },
   "outputs": [
    {
     "data": {
      "text/plain": [
       "(array([148.,  42.,  46.,  40.,  75.,  65.,  80., 101.,  63.,  90.]),\n",
       " array([-1.60171325e-15,  1.00000000e-01,  2.00000000e-01,  3.00000000e-01,\n",
       "         4.00000000e-01,  5.00000000e-01,  6.00000000e-01,  7.00000000e-01,\n",
       "         8.00000000e-01,  9.00000000e-01,  1.00000000e+00]),\n",
       " <BarContainer object of 10 artists>)"
      ]
     },
     "execution_count": 172,
     "metadata": {},
     "output_type": "execute_result"
    },
    {
     "data": {
      "image/png": "[encoded data removed]",
      "text/plain": [
       "<Figure size 432x288 with 1 Axes>"
      ]
     },
     "metadata": {
      "needs_background": "light"
     },
     "output_type": "display_data"
    }
   ],
   "source": [
    "plt.hist(entropy(dropout_var/100))"
   ]
  },
  {
   "cell_type": "code",
   "execution_count": 170,
   "metadata": {},
   "outputs": [
    {
     "data": {
      "text/plain": [
       "(array([ 5., 12., 19., 24., 39., 47., 46., 31., 17., 10.]),\n",
       " array([0.12 , 0.179, 0.238, 0.297, 0.356, 0.415, 0.474, 0.533, 0.592,\n",
       "        0.651, 0.71 ]),\n",
       " <BarContainer object of 10 artists>)"
      ]
     },
     "execution_count": 170,
     "metadata": {},
     "output_type": "execute_result"
    },
    {
     "data": {
      "image/png": "[encoded data removed]",
      "text/plain": [
       "<Figure size 432x288 with 1 Axes>"
      ]
     },
     "metadata": {
      "needs_background": "light"
     },
     "output_type": "display_data"
    }
   ],
   "source": [
    "plt.hist(dropout_var/100)"
   ]
  },
  {
   "cell_type": "code",
   "execution_count": 157,
   "metadata": {},
   "outputs": [
    {
     "data": {
      "text/plain": [
       "<matplotlib.collections.PathCollection at 0x7f3d98f7d760>"
      ]
     },
     "execution_count": 157,
     "metadata": {},
     "output_type": "execute_result"
    },
    {
     "data": {
      "image/png": "[encoded data removed]",
      "text/plain": [
       "<Figure size 432x288 with 1 Axes>"
      ]
     },
     "metadata": {
      "needs_background": "light"
     },
     "output_type": "display_data"
    }
   ],
   "source": [
    "plt.scatter(entropy(preds),entropy(dropout_var/100))"
   ]
  },
  {
   "cell_type": "code",
   "execution_count": 139,
   "metadata": {
    "scrolled": true
   },
   "outputs": [
    {
     "data": {
      "text/plain": [
       "[<matplotlib.lines.Line2D at 0x7f3d999e29a0>,\n",
       " <matplotlib.lines.Line2D at 0x7f3d999e29d0>]"
      ]
     },
     "execution_count": 139,
     "metadata": {},
     "output_type": "execute_result"
    },
    {
     "data": {
      "image/png": "[encoded data removed]",
      "text/plain": [
       "<Figure size 432x288 with 1 Axes>"
      ]
     },
     "metadata": {
      "needs_background": "light"
     },
     "output_type": "display_data"
    }
   ],
   "source": [
    "idx = np.where(np.logical_and(preds<0.5, gt == 1) | np.logical_and(preds>=0.5, gt == 0))[0]\n",
    "\n",
    "plt.scatter(preds, dropout_mean)\n",
    "plt.scatter(preds[idx], dropout_mean[idx], color='r')\n",
    "plt.plot([[0,0],[1,1]])"
   ]
  },
  {
   "cell_type": "code",
   "execution_count": 141,
   "metadata": {},
   "outputs": [
    {
     "data": {
      "text/plain": [
       "array([2.7208311e-05, 2.0564054e-03, 7.5344153e-04, ..., 9.9911898e-01,\n",
       "       1.3883442e-07, 9.9137306e-01], dtype=float32)"
      ]
     },
     "execution_count": 141,
     "metadata": {},
     "output_type": "execute_result"
    }
   ],
   "source": [
    "preds"
   ]
  },
  {
   "cell_type": "code",
   "execution_count": 142,
   "metadata": {},
   "outputs": [
    {
     "data": {
      "text/plain": [
       "<matplotlib.collections.PathCollection at 0x7f3d9991e4f0>"
      ]
     },
     "execution_count": 142,
     "metadata": {},
     "output_type": "execute_result"
    },
    {
     "data": {
      "image/png": "[encoded data removed]",
      "text/plain": [
       "<Figure size 432x288 with 1 Axes>"
      ]
     },
     "metadata": {
      "needs_background": "light"
     },
     "output_type": "display_data"
    }
   ],
   "source": [
    "plt.scatter(dists, preds)"
   ]
  },
  {
   "cell_type": "code",
   "execution_count": 133,
   "metadata": {
    "scrolled": true
   },
   "outputs": [
    {
     "data": {
      "text/plain": [
       "<matplotlib.collections.PathCollection at 0x7f3d99afcd60>"
      ]
     },
     "execution_count": 133,
     "metadata": {},
     "output_type": "execute_result"
    },
    {
     "data": {
      "image/png": "[encoded data removed]",
      "text/plain": [
       "<Figure size 432x288 with 1 Axes>"
      ]
     },
     "metadata": {
      "needs_background": "light"
     },
     "output_type": "display_data"
    }
   ],
   "source": [
    "plt.scatter(np.power(dists, 1/3), entropy(dropout_mean))"
   ]
  },
  {
   "cell_type": "code",
   "execution_count": 119,
   "metadata": {},
   "outputs": [
    {
     "data": {
      "text/plain": [
       "[0.14313663865234916,\n",
       " 0.013359444510094593,\n",
       " 0.03752087974310617,\n",
       " 0.003441668541912705,\n",
       " 0.05426332651492278,\n",
       " 0.015274635436974679,\n",
       " 0.01025093347477616,\n",
       " 0.018320334089623597,\n",
       " 0.033336465240691913,\n",
       " 0.021331467293424042,\n",
       " 0.04995751711823439,\n",
       " 0.016336217599604325,\n",
       " 0.02793600294732088,\n",
       " 0.023054138173709545,\n",
       " 0.03398119123061984,\n",
       " 0.07884951215973178,\n",
       " 0.04043448153097042,\n",
       " 0.08521998276540967,\n",
       " 0.0972163899291984,\n",
       " 0.047688669642306024,\n",
       " 0.0063700160999250344,\n",
       " 0.03117613374653977,\n",
       " 0.10554466306811829,\n",
       " 0.049678494839118695,\n",
       " 0.008705192521074644,\n",
       " 0.012196494080386925,\n",
       " 0.057608121867271954,\n",
       " 0.02855388081907126,\n",
       " 0.01151366593086563,\n",
       " 0.021436478218464266,\n",
       " 0.03659125918684814,\n",
       " 0.023992354173041772,\n",
       " 0.09146270414277591,\n",
       " 0.10882741723982739,\n",
       " 0.026283758644534312,\n",
       " 0.0104028524131369,\n",
       " 0.021515268508784713,\n",
       " 0.023234981327144345,\n",
       " 0.025657242300041377,\n",
       " 0.005096250868106974,\n",
       " 0.001713357885603199,\n",
       " 0.06523254448181932,\n",
       " 0.06596022167633192,\n",
       " 0.0140071867418085,\n",
       " 0.06520654758575622,\n",
       " 0.048669970834664636,\n",
       " 0.03921610498373354,\n",
       " 0.04202374206128926,\n",
       " 0.10146868421502016,\n",
       " 0.0049397672836965474,\n",
       " 0.014389370581319184,\n",
       " 0.07788292300101175,\n",
       " 0.03639608223394365,\n",
       " 0.03406184168855731,\n",
       " 0.03773392028191079,\n",
       " 0.09081269771230006,\n",
       " 0.023169241989901463,\n",
       " 0.02855440206896789,\n",
       " 0.03824731404920664,\n",
       " 0.020030497939953294,\n",
       " 0.002427463996485677,\n",
       " 0.04406718055887118,\n",
       " 0.0616900899920549,\n",
       " 0.040882190001913586,\n",
       " 0.02877269566343773,\n",
       " 0.07785524464191315,\n",
       " 0.022896056439302672,\n",
       " 0.010454862286072286,\n",
       " 0.024100966288251285,\n",
       " 0.06746190175945134,\n",
       " 0.036189033726137125,\n",
       " 0.06212430427570207,\n",
       " 0.02874839808785267,\n",
       " 0.001502812716141162,\n",
       " 0.0046314417353532835,\n",
       " 0.02658165598008468,\n",
       " 0.06417047043255131,\n",
       " 0.01552155133599615,\n",
       " 0.011531196837297183,\n",
       " 0.00905186613328358,\n",
       " 0.036189033726137125,\n",
       " 0.02028518260741017,\n",
       " 0.04562381830101304,\n",
       " 0.055418711740627305,\n",
       " 0.10686854169815856,\n",
       " 0.04682121886109924,\n",
       " 0.015948544809174563,\n",
       " 0.06064856126881641,\n",
       " 0.1337861805654448,\n",
       " 0.047685894762337935,\n",
       " 0.14819103334118172,\n",
       " 0.057277996377405604,\n",
       " 0.07254084663119004,\n",
       " 0.0007316607578207087,\n",
       " 0.029411733875703144,\n",
       " 0.06046629519479384,\n",
       " 0.015868089689792038,\n",
       " 0.15480753884400825,\n",
       " 0.016181772796283043,\n",
       " 0.023346888882390258,\n",
       " 0.0205497684197773,\n",
       " 0.056867270071209494,\n",
       " 0.013773274861507636,\n",
       " 0.014622585656924031,\n",
       " 0.01911891730533251,\n",
       " 0.032392436956193406,\n",
       " 0.022409889597040922,\n",
       " 0.03245129029699922,\n",
       " 0.04042652700348276,\n",
       " 0.009774196663729638,\n",
       " 0.002057812124875313,\n",
       " 0.018029372314024246,\n",
       " 0.05311287600863766,\n",
       " 0.10014727325706468,\n",
       " 0.003425855281964337,\n",
       " 0.11654315604731257,\n",
       " 0.06637174331553301,\n",
       " 0.17017684657980234,\n",
       " 0.09185673012186786,\n",
       " 0.018575927300023554,\n",
       " 0.005415026209155455,\n",
       " 0.007589116211990456,\n",
       " 0.030191355747867174,\n",
       " 0.11780137916075853,\n",
       " 0.011735095615030175,\n",
       " 0.05424385987213419,\n",
       " 0.008162075743542526,\n",
       " 0.01619207003280472,\n",
       " 0.12373835772002367,\n",
       " 0.05136728057143459,\n",
       " 0.05570356783275909,\n",
       " 0.05344094289461241,\n",
       " 0.03079801619767296,\n",
       " 0.027173004772747263,\n",
       " 0.04204603044030912,\n",
       " 0.0022161019531532233,\n",
       " 0.051586112231993296,\n",
       " 0.018256114092745614,\n",
       " 0.03384174110182134,\n",
       " 0.013559166104027515,\n",
       " 0.013588844444626217,\n",
       " 0.07819527939844204,\n",
       " 0.015146018746297911,\n",
       " 0.019672070746500504,\n",
       " 0.012419677386232272,\n",
       " 0.0243536952273455,\n",
       " 0.09265301628736809,\n",
       " 0.04112453476008667,\n",
       " 0.02527079433233117,\n",
       " 0.049311223786303066,\n",
       " 0.02366334513777074,\n",
       " 0.020872381457983473,\n",
       " 0.01614063945296198,\n",
       " 0.0028343360886913197,\n",
       " 0.03189524303904842,\n",
       " 0.01617086335665165,\n",
       " 0.04992744029114859,\n",
       " 0.019650416384783997,\n",
       " 0.11548707356048002,\n",
       " 0.044528681118819156,\n",
       " 0.012905035593516545,\n",
       " 0.004303339186556001,\n",
       " 0.08566259483679418,\n",
       " 0.0028343360886913197,\n",
       " 0.007236710881356651,\n",
       " 0.010420895406462505,\n",
       " 0.13689931792787716,\n",
       " 0.03494927786344861,\n",
       " 0.04418973717609712,\n",
       " 0.03907085077612263,\n",
       " 0.0038669291142911415,\n",
       " 0.02500808012831866,\n",
       " 0.04204603044030912,\n",
       " 0.018749439400614833,\n",
       " 0.014666224664949955,\n",
       " 0.038362236583722564,\n",
       " 0.00418763753650841,\n",
       " 0.1285063463896322,\n",
       " 0.11848326169882632,\n",
       " 0.043858949659294544,\n",
       " 0.014066744071937346,\n",
       " 0.05998411259265288,\n",
       " 0.003759496241069608,\n",
       " 0.008736664102927795,\n",
       " 0.03984016855903649,\n",
       " 0.05522167428169945,\n",
       " 0.06459732023922055,\n",
       " 0.061663677220624824,\n",
       " 0.08015757211532215,\n",
       " 0.03226586923458912,\n",
       " 0.032182639300316646,\n",
       " 0.012905035593516545,\n",
       " 0.12586202900401933,\n",
       " 0.021923546080635726,\n",
       " 0.05434159880925376,\n",
       " 0.010561469506381871,\n",
       " 0.06345900562874777,\n",
       " 0.11586470651146051,\n",
       " 0.038643524154913005,\n",
       " 0.017947185074779465,\n",
       " 0.010138934406645128,\n",
       " 0.058024575128172835,\n",
       " 0.010113130454261316,\n",
       " 0.015801977318123907,\n",
       " 0.025932504728474408,\n",
       " 0.02214530071298543,\n",
       " 0.02154760346934949,\n",
       " 0.0212017885241946,\n",
       " 0.07896857652760032,\n",
       " 0.13805638286601513,\n",
       " 0.03311377663286073,\n",
       " 0.16150122280773307,\n",
       " 0.07845321302712537,\n",
       " 0.046692145058289974,\n",
       " 0.01410367185738786,\n",
       " 0.042612858986011505,\n",
       " 0.014389370581319184,\n",
       " 0.006294603339210957,\n",
       " 0.0025025574057349186,\n",
       " 0.08139517888946861,\n",
       " 0.02047352182582866,\n",
       " 0.0011506710170658932,\n",
       " 0.06214113962693796,\n",
       " 0.020155443601851283,\n",
       " 0.02787375138205913,\n",
       " 0.08113581459589846,\n",
       " 0.006967407840725036,\n",
       " 0.0678021955790531,\n",
       " 0.008140428358202983,\n",
       " 0.0052952630582153385,\n",
       " 0.01322516299807037,\n",
       " 0.002218791658847354,\n",
       " 0.003759496241069608,\n",
       " 0.0925196392053483,\n",
       " 0.02848238331564607,\n",
       " 0.026542556406835727,\n",
       " 0.02556972648845389,\n",
       " 0.01779413742110121,\n",
       " 0.022757750078396234,\n",
       " 0.01943100079106103,\n",
       " 0.10465285655749758,\n",
       " 0.07535954918624135,\n",
       " 0.051893413307188996,\n",
       " 0.005581770052686533,\n",
       " 0.046117204548055644,\n",
       " 0.07285610140087316,\n",
       " 0.03712927019356897,\n",
       " 0.02721231587599322,\n",
       " 0.006761922509920738,\n",
       " 0.13051218898351316,\n",
       " 0.08024333136369675,\n",
       " 0.06311871454893585,\n",
       " 0.037519336193671954,\n",
       " 0.004809831234535355,\n",
       " 0.00737525933295619,\n",
       " 0.0010910028979058814,\n",
       " 0.04022843194663239,\n",
       " 0.03976921922182801,\n",
       " 0.02801414274255209,\n",
       " 0.04677049883045638,\n",
       " 0.04847133016266078,\n",
       " 0.021184127461476434,\n",
       " 0.03703218682763382,\n",
       " 0.028533154679928365,\n",
       " 0.001748277349789542,\n",
       " 0.05998411259265288,\n",
       " 0.042806354527943,\n",
       " 0.0897438116994908,\n",
       " 0.02154760346934949,\n",
       " 0.02662185136514189,\n",
       " 0.009878790932465156,\n",
       " 0.040878533651510035,\n",
       " 0.03725674359467803,\n",
       " 0.05257740739672577,\n",
       " 0.00011885538893475802,\n",
       " 0.06593362017828626,\n",
       " 0.031758214890970304,\n",
       " 0.03473601043620516,\n",
       " 0.03441051986376764,\n",
       " 0.023026734912938336,\n",
       " 0.017307857707307712,\n",
       " 0.051821713150425545,\n",
       " 0.03310938109887424,\n",
       " 0.00700962804110184,\n",
       " 0.009807120431811612,\n",
       " 0.011999739268851076,\n",
       " 0.032464775946042815,\n",
       " 0.015745080128688686,\n",
       " 0.007239645228807101,\n",
       " 0.05775229540350464,\n",
       " 0.026302404730029573,\n",
       " 0.05452189986175481,\n",
       " 0.02907414027842347,\n",
       " 0.04957685881452785,\n",
       " 0.036613211368925765,\n",
       " 0.0031369307125630637,\n",
       " 0.07626786419312319,\n",
       " 0.036106873194962356,\n",
       " 0.03583802054714494,\n",
       " 0.01304318972363016,\n",
       " 0.010986334299523974,\n",
       " 0.0024912221467962396,\n",
       " 0.1629730828360889,\n",
       " 0.020724512293433837,\n",
       " 0.1218652649329548,\n",
       " 0.036407067008033735,\n",
       " 0.0005484786959154586,\n",
       " 0.0018510302292062831,\n",
       " 0.08523389272394762,\n",
       " 0.03483892313778014,\n",
       " 0.06268201188533869,\n",
       " 0.026561015900278498,\n",
       " 0.0026527275642287155,\n",
       " 0.05559894966732935,\n",
       " 0.058046013222203506,\n",
       " 0.02726352602314895,\n",
       " 0.0807739735462197,\n",
       " 0.004807570992524535,\n",
       " 0.010113130454261316,\n",
       " 0.00851883297977555,\n",
       " 0.02681499683872491,\n",
       " 0.026590621769856812,\n",
       " 0.002932025774672034,\n",
       " 0.028603821630057417,\n",
       " 0.00045161076466590885,\n",
       " 0.024589909103793932,\n",
       " 0.0909880708135086,\n",
       " 0.018544879923539734,\n",
       " 0.08024288352194578,\n",
       " 0.05334831006671047,\n",
       " 0.0880666741218266,\n",
       " 0.037308824331203666,\n",
       " 0.10907743007753255,\n",
       " 0.027604990103954917,\n",
       " 0.06102545869360562,\n",
       " 0.031736360869510136,\n",
       " 0.03401310680159789,\n",
       " 0.07509652040099192,\n",
       " 0.002212937957950672,\n",
       " 0.046825731327493625,\n",
       " 0.12982743124101156,\n",
       " 0.006639956646048484,\n",
       " 0.06403713687479375,\n",
       " 0.016788698641265046,\n",
       " 0.016798611562065333,\n",
       " 0.06514619448009103,\n",
       " 0.07403758520073188,\n",
       " 0.005196460379796532,\n",
       " 0.03210841771692203,\n",
       " 0.0793998875971808,\n",
       " 0.01654819070067117,\n",
       " 0.148506029151917,\n",
       " 0.033849177769983634,\n",
       " 0.025074328728064175,\n",
       " 0.02201903162196515,\n",
       " 0.02612001766272296,\n",
       " 0.01306497143025749,\n",
       " 0.01168449970142223,\n",
       " 0.03513388904138088,\n",
       " 0.09494083945657193,\n",
       " 0.001847769970414152,\n",
       " 0.027827145435448588,\n",
       " 0.06208558538356021,\n",
       " 0.05138548079355443,\n",
       " 0.009360776616994516,\n",
       " 0.00024472607156171165,\n",
       " 0.020097647229336945,\n",
       " 0.04677157881526019,\n",
       " 0.0014743071227317369,\n",
       " 0.04128343421437983,\n",
       " 0.060280191280441646,\n",
       " 0.02414163835769259,\n",
       " 0.016339531717067854,\n",
       " 0.0042322642745621876,\n",
       " 0.04056336603447643,\n",
       " 0.07879409650676801,\n",
       " 0.006568933536256743,\n",
       " 0.11317972851015955,\n",
       " 0.08342013175822541,\n",
       " 0.11741545473369559,\n",
       " 0.016291378394428277,\n",
       " 0.007809637613524494,\n",
       " 0.035635951402364134,\n",
       " 0.04203855905295737,\n",
       " 0.034809517552695665,\n",
       " 0.03308361209345338,\n",
       " 0.08932918687410427,\n",
       " 0.03938157381628095,\n",
       " 0.02556972648845389,\n",
       " 0.0622980875959634,\n",
       " 0.07216238161710048,\n",
       " 0.013308907635378257,\n",
       " 0.054871303345887926,\n",
       " 0.026652523475020146,\n",
       " 0.05708163281566732,\n",
       " 0.009199756213948477,\n",
       " 0.036316006376964693,\n",
       " 0.06453834733684985,\n",
       " 0.0024082431928912455,\n",
       " 0.05775229540350464,\n",
       " 0.0006670057786328621,\n",
       " 0.013396375367233471,\n",
       " 0.19656891607980517,\n",
       " 0.20044363067459892,\n",
       " 0.02205813211932374,\n",
       " 0.027850072517398117,\n",
       " 0.007874386409363733,\n",
       " 0.012021814243623403,\n",
       " 0.019855596212752354,\n",
       " 0.02098479404565271,\n",
       " 0.01854365385131983,\n",
       " 0.020477120074465872,\n",
       " 0.10101663019010455,\n",
       " 0.00807535883124227,\n",
       " 0.0011083359667817812,\n",
       " 0.00710804826828806,\n",
       " 0.009428011293783047,\n",
       " 0.005022798885819477,\n",
       " 0.01562550502755147,\n",
       " 0.06716444594005642,\n",
       " 0.05058245523965836,\n",
       " 0.13280077705518217,\n",
       " 0.01853327102402408,\n",
       " 0.007751106331434282,\n",
       " 0.012687434404460232,\n",
       " 0.0025137386637552757,\n",
       " 0.021302990035038213,\n",
       " 0.011000603697663043,\n",
       " 0.025528892374435747,\n",
       " 0.026140842824768706,\n",
       " 0.0014927082540955893,\n",
       " 0.08280617674489106,\n",
       " 0.03771641613561177,\n",
       " 0.020215762190069278,\n",
       " 0.1289655993066979,\n",
       " 0.007372968374061729,\n",
       " 0.012952671753166894,\n",
       " 0.03603282017697453,\n",
       " 0.03857502675389426,\n",
       " 0.07218576195530252,\n",
       " 0.16202306613649664,\n",
       " 0.010570358399819872,\n",
       " 0.048021402370843305,\n",
       " 0.08614286320439665,\n",
       " 0.10502087439502328,\n",
       " 0.049692336179262345,\n",
       " 0.05876994352959959,\n",
       " 0.01130323778492089,\n",
       " 0.000486225412590724,\n",
       " 0.07104564809686266,\n",
       " 0.011967896897768619,\n",
       " 0.018320334089623597,\n",
       " 0.05663603933231911,\n",
       " 0.018969527511870733,\n",
       " 0.03894658775791667,\n",
       " 0.12781943825702569,\n",
       " 0.0031945607925247628,\n",
       " 0.042528260731713494,\n",
       " 0.025568751435648348,\n",
       " 0.08223246792962821,\n",
       " 0.004345614781448388,\n",
       " 0.02907414027842347,\n",
       " 0.06798196957668715,\n",
       " 0.046854679543386936,\n",
       " 0.0006314602008836706,\n",
       " 0.034409611789387194,\n",
       " 0.03084879755795807,\n",
       " 0.010506416104395008,\n",
       " 0.040563738281456145,\n",
       " 0.0005588230652824251,\n",
       " 0.03408770441952016,\n",
       " 0.00595901878230894,\n",
       " 0.031344591722334295,\n",
       " 0.10372893892909382,\n",
       " 0.10493121295705096,\n",
       " 0.025848234415956146,\n",
       " 0.02848973147102565,\n",
       " 0.030049655268935636,\n",
       " 0.06792996358891691,\n",
       " 0.06449521599040424,\n",
       " 0.0972163899291984,\n",
       " 0.052619212138235706,\n",
       " 0.0027510790688956037,\n",
       " 0.009139062983875096,\n",
       " 0.01044231933948919,\n",
       " 0.03509768935019768,\n",
       " 0.01266799309008502,\n",
       " 0.028680982962388378,\n",
       " 0.01491504308444412,\n",
       " 0.09265301628736809,\n",
       " 0.09288467812991101,\n",
       " 0.06551501350765461,\n",
       " 0.03609205089291775,\n",
       " 0.003161236722275495,\n",
       " 0.04810021283538818,\n",
       " 0.07797989417222784,\n",
       " 0.0006204023310230233,\n",
       " 0.00032753642101302654,\n",
       " 0.08852013987388932,\n",
       " 0.11779063387423581,\n",
       " 0.029952187941954974,\n",
       " 0.05765447000030997,\n",
       " 0.04061868558003816,\n",
       " 0.015645037217045996,\n",
       " 0.06985865584867314,\n",
       " 0.06380187501348812,\n",
       " 0.0997241156328247,\n",
       " 0.020379924045249024,\n",
       " 0.02698737853196695,\n",
       " 0.08249944669135599,\n",
       " 0.00472661825962703,\n",
       " 0.008315823221542645,\n",
       " 0.028563269200274768,\n",
       " 0.05872273490731951,\n",
       " 0.05271061805115579,\n",
       " 0.04278208610736615,\n",
       " 0.021314063523653254,\n",
       " 0.054707398679530526,\n",
       " 0.0734408948981917,\n",
       " 0.044859547250018846,\n",
       " 0.06110107885836242,\n",
       " 0.0035088423055591013,\n",
       " 0.03978711904323834,\n",
       " 0.01709870717547237,\n",
       " 0.005096013046540074,\n",
       " 0.015778428460069778,\n",
       " 0.056867270071209494,\n",
       " 0.01743101637545301,\n",
       " 0.06046639675574428,\n",
       " 0.0028663908748335297,\n",
       " 0.010924257495108258,\n",
       " 0.02003706094054951,\n",
       " 0.03879331279929948,\n",
       " 0.05640906976057272,\n",
       " 0.028169069124133844,\n",
       " 0.059581671749318776,\n",
       " 0.0997638453186884,\n",
       " 0.01519255065675872,\n",
       " 0.002714851055704439,\n",
       " 0.003183203979705021,\n",
       " 0.049207762684230064,\n",
       " 0.07431960451056566,\n",
       " 0.06388928360232671,\n",
       " 0.008029904429361915,\n",
       " 0.044068565005260636,\n",
       " 0.006141282357330814,\n",
       " 0.07032517008084398,\n",
       " 0.017954028718360875,\n",
       " 0.014637540666318468,\n",
       " 0.019896073776638944,\n",
       " 0.026863157788522884,\n",
       " 0.028659351404053287,\n",
       " 0.053459745610182983,\n",
       " 0.020361324087141742,\n",
       " 0.0008687771778924081,\n",
       " 0.07163015787950765,\n",
       " 0.08490902047196529,\n",
       " 0.03984016855903649,\n",
       " 0.00807527795212577,\n",
       " 0.035441377749879356,\n",
       " 0.004708137941178401,\n",
       " 0.08727339944090007,\n",
       " 0.10312609436875991,\n",
       " 0.08820116929841093,\n",
       " 0.07150693944359553,\n",
       " 0.05122974817187088,\n",
       " 0.02324223366146572,\n",
       " 0.005370949147131304,\n",
       " 0.010029254254978921,\n",
       " 0.035008941505232365,\n",
       " 0.023895749600022557,\n",
       " 0.034735862786913624,\n",
       " 0.017141053158884558,\n",
       " 0.1574377824303496,\n",
       " 0.063385572232778,\n",
       " 0.0548926742792747,\n",
       " 0.16215672094844125,\n",
       " 0.05396823446384905,\n",
       " 0.027837945283486654,\n",
       " 0.06175329007125535,\n",
       " 0.04098951544413615,\n",
       " 0.009389744122049504,\n",
       " 0.095701189054838,\n",
       " 0.02831255966199862,\n",
       " 0.007461037948586246,\n",
       " 0.10346645816038136,\n",
       " 0.038842949565200104,\n",
       " 0.004571264080362436,\n",
       " 0.033409727246863474,\n",
       " 0.001534783147994018,\n",
       " 0.009139062983875096,\n",
       " 0.010814382642652906,\n",
       " 0.06824054068483106,\n",
       " 0.0029176079983662243,\n",
       " 0.10167907196045353,\n",
       " 0.004766121837989632,\n",
       " 0.03959384226799338,\n",
       " 0.11678169711816565,\n",
       " 0.013082558980704977,\n",
       " 0.06414070733417876,\n",
       " 0.04385583507141839,\n",
       " 0.011821661936506817,\n",
       " 0.056110708463415274,\n",
       " 0.0017175161186479358,\n",
       " 0.15118279564515802,\n",
       " 0.004583983108877877,\n",
       " 0.0035301853855005424,\n",
       " 0.09171557823216095,\n",
       " 0.07647222809736202,\n",
       " 0.07063053260830686,\n",
       " 0.013672791709241103,\n",
       " 0.021353345836328613,\n",
       " 0.02657748014990999,\n",
       " 0.1003200762271596,\n",
       " 0.027139588603909588,\n",
       " 0.0028921976385931324,\n",
       " 0.05674115612648286,\n",
       " 0.08609255670630762,\n",
       " 0.028780209950301547,\n",
       " 0.007288885226283618,\n",
       " 0.037632241878433025,\n",
       " 0.04407909449266015,\n",
       " 0.06278304408888466,\n",
       " 0.0435484032151859,\n",
       " 0.018625203012385117,\n",
       " 0.021768241751228906,\n",
       " 0.058706075058820494,\n",
       " 0.004471293639740131,\n",
       " 0.011105459242128309,\n",
       " 0.004602365966299089,\n",
       " 0.09223329724904852,\n",
       " 0.020652821377766736,\n",
       " 0.022128974220767688,\n",
       " 0.10583567524023181,\n",
       " 0.028478463528918408,\n",
       " 0.003157852658823537,\n",
       " 0.015405161783942549,\n",
       " 0.016379850047753403,\n",
       " 0.08381520846298794,\n",
       " 0.0442100743561931,\n",
       " 0.052747888495808165,\n",
       " 0.01306572904397061,\n",
       " 0.04107154803168118,\n",
       " 0.04070622672003903,\n",
       " 0.037587806209808,\n",
       " 0.0027673192414640647,\n",
       " 0.020819565533672903,\n",
       " 0.019140557974607664,\n",
       " 0.07754897398800732,\n",
       " 0.009395214564744623,\n",
       " 0.03583666093457497,\n",
       " 0.05338245672469114,\n",
       " 0.006379481481587705,\n",
       " 0.0014107033898396123,\n",
       " 0.014225858882822328,\n",
       " 0.048337180160548554,\n",
       " 0.057302311654245645,\n",
       " 0.00830712503309579,\n",
       " 0.056243757447467777,\n",
       " 0.07140459349455498,\n",
       " 0.00105639501810797,\n",
       " 0.0494956315039281,\n",
       " 0.06887049370194699,\n",
       " 0.0517082300663458,\n",
       " 0.018942624207427667,\n",
       " 0.038638369601525495,\n",
       " 0.019193367898713422,\n",
       " 0.010026101192904445,\n",
       " 0.0483300240637855,\n",
       " 0.09112222820849791,\n",
       " 0.002364845754933277,\n",
       " 0.0044397794186874845,\n",
       " 0.09767369255843421,\n",
       " 0.06782602668752258,\n",
       " 0.03957133845428792,\n",
       " 0.01911891730533251,\n",
       " 0.06256193011180894,\n",
       " 0.0009946470535503848,\n",
       " 0.09171557823216095,\n",
       " 0.013328602155793448,\n",
       " 0.017322688079042088,\n",
       " 0.021382510801486024,\n",
       " 0.0687199481206601,\n",
       " 0.036053790983905,\n",
       " 0.03466650489665282,\n",
       " 0.02079813077164317,\n",
       " 0.009921600168132658,\n",
       " 0.04299126631483483,\n",
       " 0.0701428272146123,\n",
       " 0.02399209711437571,\n",
       " 0.06698321151079281,\n",
       " 0.05099219514342074,\n",
       " 0.08381520846298794,\n",
       " 0.01660531176542718,\n",
       " 0.07503449655716922,\n",
       " 0.0034215134764929603,\n",
       " 0.008568465320362434,\n",
       " 0.013228655026162075,\n",
       " 0.09336224268287788,\n",
       " 0.008230452593808607,\n",
       " 0.030819697944272167,\n",
       " 0.03683469101032702,\n",
       " 0.057401225017570584,\n",
       " 0.007848441367565231,\n",
       " 0.019964574093158508,\n",
       " 0.00024335081420609323,\n",
       " 0.02959828427818093,\n",
       " 0.05067133449041064,\n",
       " 0.008268499020480054,\n",
       " 0.04339460513242155,\n",
       " 0.006475442900332247,\n",
       " 0.002089557711743043,\n",
       " 0.017100896716588303,\n",
       " 0.00682014304387666,\n",
       " 0.032530397569940084,\n",
       " 0.01422507148935083,\n",
       " 0.03791388134015995,\n",
       " 0.026628684882564202,\n",
       " 0.03366618219600584,\n",
       " 0.01986421406873911,\n",
       " 0.06549990694428004,\n",
       " 0.00822774729539134,\n",
       " 0.016547872442519145,\n",
       " 0.02730622446978529,\n",
       " 0.02811238719367324,\n",
       " 0.022096887155866395,\n",
       " 0.03981450317103541,\n",
       " 0.013810749010510284,\n",
       " 0.00029770616199658966,\n",
       " 0.02938276233580327,\n",
       " 0.04015362790083955,\n",
       " 0.02721231587599322,\n",
       " 0.04745221528910245,\n",
       " 0.031222953565960474,\n",
       " 0.010948439869364035,\n",
       " 0.016912753617662483,\n",
       " 0.020661587611920232,\n",
       " 0.15260009400197783,\n",
       " 0.028841093520928472,\n",
       " 0.019381869187740004,\n",
       " 0.026982706858402778,\n",
       " 0.0023097448654252426,\n",
       " 0.029150672799702543,\n",
       " 0.008730144240599088,\n",
       " 0.015115680562134685,\n",
       " 0.06960242830859474,\n",
       " 0.0029334403131949524,\n",
       " 0.1362991479230456,\n",
       " 0.10603454467492501,\n",
       " 0.01743101637545301,\n",
       " 0.012187914451301546,\n",
       " 0.04824664698783101,\n",
       " 0.0479092643999232,\n",
       " 0.03336011469003215,\n",
       " 0.0022387253284235687,\n",
       " 0.038449037030327565,\n",
       " 0.010873337505362273,\n",
       " 0.0578767200855803,\n",
       " 0.08758859373997244,\n",
       " 0.045145207812126935,\n",
       " 0.01973852625569485,\n",
       " 0.05734711561309928,\n",
       " 0.020021495914670968,\n",
       " 0.03831294509641906,\n",
       " 0.14803500167241404,\n",
       " 0.004723247940678938,\n",
       " 0.002358437744443164,\n",
       " 0.022855985581272678,\n",
       " 0.016926774729669206,\n",
       " 0.002894930295861846,\n",
       " 0.003512430688349786,\n",
       " 0.08031376528201026,\n",
       " 0.025318809298838077,\n",
       " 0.026709853258397368,\n",
       " 0.07346668588700936,\n",
       " 0.011093668436186482,\n",
       " 0.0006102736729237689,\n",
       " 0.01109295321437591,\n",
       " 0.0580744384001782,\n",
       " 0.0013343899476221679,\n",
       " 0.05001859420522825,\n",
       " 0.010282995341420362,\n",
       " 0.00024156090495258066,\n",
       " 0.0008728193115294853,\n",
       " 0.046466788402770756,\n",
       " 0.026320762389193696,\n",
       " 0.025222381452024826,\n",
       " 0.06481697066091582,\n",
       " 0.002476712740464654,\n",
       " 0.09902607075564784,\n",
       " 0.05743858341207973,\n",
       " 0.08343948787229541,\n",
       " 0.004819264129188887,\n",
       " 0.005674784108351963,\n",
       " 0.0028921976385931324,\n",
       " 0.04200326241212196,\n",
       " 0.014365378092069947,\n",
       " 0.03016676986959945,\n",
       " 0.01854978858567057,\n",
       " 0.03181201009816573,\n",
       " 0.001978958656693343,\n",
       " 0.025074328728064175,\n",
       " 0.0016108316961369461,\n",
       " 0.08960687385384433,\n",
       " 0.00962573545727908,\n",
       " 0.006909550631535382,\n",
       " 0.0001926746202005656,\n",
       " 0.1386098595438131,\n",
       " 0.05818009460592143,\n",
       " 0.02867079328702196,\n",
       " 0.04554167927165682,\n",
       " 0.009266930381079362,\n",
       " 0.09139656434067037,\n",
       " 0.013499693594716963,\n",
       " 0.028066869470759447,\n",
       " 0.14335099095827278,\n",
       " 0.028268872769474852,\n",
       " 0.036885815150208556,\n",
       " 0.07091111626826803,\n",
       " 0.012218179315174615,\n",
       " 0.021185698604043405,\n",
       " 0.01360683719762519,\n",
       " 0.03474656808942509,\n",
       " 0.005447247647407046,\n",
       " 0.02135689733282767,\n",
       " 0.024300136227779025,\n",
       " 0.0014677665610793363,\n",
       " 0.08682467347969411,\n",
       " 0.045173340312540784,\n",
       " 0.0029597856116060483,\n",
       " 0.007316099448064147,\n",
       " 0.023367833358703946,\n",
       " 0.10854339664693063,\n",
       " 0.0016361435536323286,\n",
       " 4.5380850562789704e-05,\n",
       " 0.07997888242368063,\n",
       " 0.09286600361828275,\n",
       " 0.05137409063469405,\n",
       " 0.0034833412528854973,\n",
       " 0.0065055887623124645,\n",
       " 0.05923970547349654,\n",
       " 0.0034322391875101694,\n",
       " 0.05239597911268887,\n",
       " 0.015534033401976184,\n",
       " 0.03477983455250191,\n",
       " 0.008613326339732117,\n",
       " 0.0017889900377539925,\n",
       " 0.017820139002790617,\n",
       " 0.10935356366802314,\n",
       " 0.021118227537407126,\n",
       " 0.05385426581872647,\n",
       " 0.08199341227288037,\n",
       " 0.03346231163615579,\n",
       " 0.1297323360904482,\n",
       " 0.004503665746909105,\n",
       " 0.03176181311357626,\n",
       " 0.0017677656082834288,\n",
       " 0.0014663188587345887,\n",
       " 0.10882517751044735,\n",
       " 0.008870140233881708,\n",
       " 0.0028611156405370735,\n",
       " 0.07234924569622901,\n",
       " 0.04036406515772436,\n",
       " 0.027967232334355902,\n",
       " 0.0997076688241356,\n",
       " 0.07076137861911465,\n",
       " 0.06862658696420952,\n",
       " 0.11067163425599208,\n",
       " 0.10626831289522452,\n",
       " 0.07423478863495643,\n",
       " 0.1409792580615271,\n",
       " 0.010088784877037753,\n",
       " 0.01788172218948935,\n",
       " 0.002802512980739282,\n",
       " 0.0068554098138442965,\n",
       " 0.058911108330810126,\n",
       " 0.02587333672183008,\n",
       " 0.010383183976041547,\n",
       " 0.13162337672659716,\n",
       " 0.034027962527776894,\n",
       " 0.015462189891078658,\n",
       " 0.01155404238934878,\n",
       " 0.009958784029569272,\n",
       " 0.011631736633579652,\n",
       " 0.04410926529258488,\n",
       " 0.015271759763978232,\n",
       " 0.008372429127716238,\n",
       " 0.04281448545624591,\n",
       " 0.0882177369441965,\n",
       " 0.031361566158578054,\n",
       " 0.025585834864766524,\n",
       " 0.04137714291414691,\n",
       " 0.03606035919075268,\n",
       " 0.22423038859764893,\n",
       " 0.03800548080523995,\n",
       " 0.046515658652268255,\n",
       " 0.07634093913867962,\n",
       " 0.08020343581967702,\n",
       " 0.10494655380174144,\n",
       " 0.009659964269907858,\n",
       " 0.09556164693808393,\n",
       " 0.0431973569244344,\n",
       " 0.0545028115312289,\n",
       " 0.013820101865555363,\n",
       " 0.11887182840263254,\n",
       " 0.037542345976926,\n",
       " 0.02792292182401608,\n",
       " 0.006903769330073128,\n",
       " 0.18902945105503188,\n",
       " 0.030225536057755745,\n",
       " 0.037412243132483515,\n",
       " 0.018707954817538713,\n",
       " 0.035594544001965975,\n",
       " 0.020802392400841994,\n",
       " 0.06825610709036622,\n",
       " 0.016912753617662483,\n",
       " 0.05931672556022527,\n",
       " 0.021895840987435862,\n",
       " 0.051359970786128306,\n",
       " 0.15736422569828262,\n",
       " 0.09261739438597243,\n",
       " 0.024104992594883908,\n",
       " 0.040541041836446495,\n",
       " 0.003078802602586266,\n",
       " 0.0697965821289614,\n",
       " 0.0030515008637186174,\n",
       " 0.0011166043986936798,\n",
       " 0.03405959612817562,\n",
       " 0.08401443848265758,\n",
       " 0.010835920358305348,\n",
       " 0.0442389198006825,\n",
       " 0.03976921922182801,\n",
       " 0.006568933536256743,\n",
       " 0.00897914818039007,\n",
       " 0.06139795764287626,\n",
       " 0.0013080906724740186,\n",
       " 0.021560676262651946,\n",
       " 0.0786086332021351,\n",
       " 0.1710541769520383,\n",
       " 0.05081579901379941,\n",
       " 0.0684631592946113,\n",
       " 0.0063856098122491425,\n",
       " 0.032501453362860394,\n",
       " 0.08769417885597887,\n",
       " 0.007760648036743422,\n",
       " 0.008809234250342227,\n",
       " 0.001763483154078748,\n",
       " 0.05948171744807601,\n",
       " 0.008291602698479261,\n",
       " 0.023951466694946123,\n",
       " 0.010081256220919895,\n",
       " 0.10255736470827273,\n",
       " 0.022359532650375203,\n",
       " 0.04655408042363904,\n",
       " 0.014770020450898353,\n",
       " 0.11587702029837757,\n",
       " 0.005075569763039252,\n",
       " 0.005175635061563241,\n",
       " 0.031138422003743723,\n",
       " 0.04394689074353291,\n",
       " 0.14905517289439454,\n",
       " 0.05634547468958147,\n",
       " 0.013222065070198904,\n",
       " 0.004533283018178127,\n",
       " 0.010395781698897865,\n",
       " 0.07144524380186516,\n",
       " 0.03899837954748602,\n",
       " 0.03639608223394365,\n",
       " 0.04596633945911636,\n",
       " 0.022002808005276348,\n",
       " 0.014922688152344724,\n",
       " 0.0459164217150781,\n",
       " 0.06051933394178623,\n",
       " 0.016803773238255625,\n",
       " 0.01712459078350359,\n",
       " 0.14633956479766463,\n",
       " 0.028898430645120262,\n",
       " 0.009102772495666355,\n",
       " 0.019658680488999363,\n",
       " 0.0234421866993075,\n",
       " 0.09494083945657193,\n",
       " 0.03421939431162784,\n",
       " 0.09145377469263899,\n",
       " 0.0482628360870726,\n",
       " 0.0030990903232933275,\n",
       " 0.0088759561113615,\n",
       " 0.03947851010561223,\n",
       " 0.04886362035148319,\n",
       " 0.056859338154538044,\n",
       " 0.01674919443815227,\n",
       " 0.036887629424718925,\n",
       " 0.012975131390201726,\n",
       " 0.008324517869738503,\n",
       " 0.09528989477263836,\n",
       " 0.016521009017962295,\n",
       " 0.013063354785052717,\n",
       " 0.10140258731242668,\n",
       " 0.002880946200303033,\n",
       " 0.002757979070149117,\n",
       " 0.003471492657552414,\n",
       " ...]"
      ]
     },
     "execution_count": 119,
     "metadata": {},
     "output_type": "execute_result"
    }
   ],
   "source": [
    "dists"
   ]
  },
  {
   "cell_type": "code",
   "execution_count": 144,
   "metadata": {},
   "outputs": [
    {
     "data": {
      "text/plain": [
       "<matplotlib.collections.PathCollection at 0x7f3d9981f6a0>"
      ]
     },
     "execution_count": 144,
     "metadata": {},
     "output_type": "execute_result"
    },
    {
     "data": {
      "image/png": "[encoded data removed]",
      "text/plain": [
       "<Figure size 432x288 with 1 Axes>"
      ]
     },
     "metadata": {
      "needs_background": "light"
     },
     "output_type": "display_data"
    }
   ],
   "source": [
    "plt.scatter(preds, 20*laplace_var)\n",
    "plt.scatter(preds, entropy(preds), color='r')\n",
    "#plt.plot([[0,0],[1,1]])"
   ]
  },
  {
   "cell_type": "code",
   "execution_count": 143,
   "metadata": {},
   "outputs": [
    {
     "data": {
      "text/plain": [
       "<matplotlib.collections.PathCollection at 0x7f3d99851d60>"
      ]
     },
     "execution_count": 143,
     "metadata": {},
     "output_type": "execute_result"
    },
    {
     "data": {
      "image/png": "[encoded data removed]",
      "text/plain": [
       "<Figure size 432x288 with 1 Axes>"
      ]
     },
     "metadata": {
      "needs_background": "light"
     },
     "output_type": "display_data"
    }
   ],
   "source": [
    "plt.scatter(preds, entropy(preds), color='red')\n",
    "plt.scatter(preds, entropy(dropout_mean))"
   ]
  },
  {
   "cell_type": "code",
   "execution_count": 70,
   "metadata": {},
   "outputs": [],
   "source": [
    "idx = np.where(np.logical_and(preds<0.5, gt == 1) | np.logical_and(preds>=0.5, gt == 0))[0]\n"
   ]
  },
  {
   "cell_type": "code",
   "execution_count": 107,
   "metadata": {},
   "outputs": [],
   "source": [
    "idx = np.where(np.logical_and(preds<0.5, gt == 1))\n"
   ]
  },
  {
   "cell_type": "code",
   "execution_count": 108,
   "metadata": {},
   "outputs": [
    {
     "data": {
      "text/plain": [
       "(array([], dtype=int64),)"
      ]
     },
     "execution_count": 108,
     "metadata": {},
     "output_type": "execute_result"
    }
   ],
   "source": [
    "idx"
   ]
  },
  {
   "cell_type": "code",
   "execution_count": 63,
   "metadata": {},
   "outputs": [
    {
     "data": {
      "text/plain": [
       "array([0.87398666, 0.1783883 , 0.54252815, ..., 0.07770262, 0.8734435 ,\n",
       "       0.48616788], dtype=float32)"
      ]
     },
     "execution_count": 63,
     "metadata": {},
     "output_type": "execute_result"
    }
   ],
   "source": [
    "preds"
   ]
  },
  {
   "cell_type": "code",
   "execution_count": 165,
   "metadata": {},
   "outputs": [],
   "source": [
    "preds, gt = classifier.pred(data_loader_test)\n",
    "dropout_var_test, dropout_mean, dropout_raw_var = unc.get_preds_dropout(data_loader_test, classifier.model, device)\n",
    "laplace_var_test, laplace_mean = unc.get_preds_laplace(data_loader_train, data_loader_test, classifier.model, device)\n"
   ]
  },
  {
   "cell_type": "code",
   "execution_count": 49,
   "metadata": {},
   "outputs": [],
   "source": [
    "gt = np.concatenate(gt)"
   ]
  },
  {
   "cell_type": "code",
   "execution_count": 50,
   "metadata": {},
   "outputs": [],
   "source": [
    "a, b = classifier.pred(data_loader_test)"
   ]
  },
  {
   "cell_type": "code",
   "execution_count": 51,
   "metadata": {},
   "outputs": [
    {
     "data": {
      "text/plain": [
       "array([[1106,  154],\n",
       "       [   1, 1239]])"
      ]
     },
     "execution_count": 51,
     "metadata": {},
     "output_type": "execute_result"
    }
   ],
   "source": [
    "from sklearn.metrics import confusion_matrix\n",
    "confusion_matrix(np.concatenate(b),np.round(a))"
   ]
  },
  {
   "cell_type": "code",
   "execution_count": 52,
   "metadata": {
    "scrolled": true
   },
   "outputs": [
    {
     "data": {
      "image/png": "[encoded data removed]",
      "text/plain": [
       "<Figure size 1080x1080 with 9 Axes>"
      ]
     },
     "metadata": {
      "needs_background": "light"
     },
     "output_type": "display_data"
    }
   ],
   "source": [
    "fig, axs = plt.subplots(3,3, figsize = (15,15))\n",
    "for i, x in enumerate([dropout_var, laplace_var, dists, preds, dropout_mean, laplace_mean, dropout_raw_var]):\n",
    "    axs[i//3, i%3].hist(x)\n",
    "    axs[i//3, i%3].set_title(retrieve_name(x)[0])\n",
    "    "
   ]
  },
  {
   "cell_type": "markdown",
   "metadata": {},
   "source": [
    "## Niepewność błędnie zaklasyfikowanych"
   ]
  },
  {
   "cell_type": "code",
   "execution_count": 166,
   "metadata": {
    "scrolled": true
   },
   "outputs": [],
   "source": [
    "k = list(map(entropy_new, dropout_var_test/100))"
   ]
  },
  {
   "cell_type": "code",
   "execution_count": 167,
   "metadata": {
    "scrolled": true
   },
   "outputs": [
    {
     "data": {
      "image/png": "[encoded data removed]",
      "text/plain": [
       "<Figure size 720x720 with 2 Axes>"
      ]
     },
     "metadata": {
      "needs_background": "light"
     },
     "output_type": "display_data"
    }
   ],
   "source": [
    "idx = np.where(np.logical_and(preds<0.5, gt == 1) | np.logical_and(preds>=0.5, gt == 0))[0]\n",
    "plot_histograms(np.array(k), idx)"
   ]
  },
  {
   "cell_type": "code",
   "execution_count": 76,
   "metadata": {},
   "outputs": [
    {
     "data": {
      "text/plain": [
       "0.141"
      ]
     },
     "execution_count": 76,
     "metadata": {},
     "output_type": "execute_result"
    }
   ],
   "source": [
    "#P(HU)\n",
    "print(len(np.where(np.array(k)> 0.8)[0])/20000)\n",
    "#P(BD)\n",
    "print(len(idx)/20000)"
   ]
  },
  {
   "cell_type": "code",
   "execution_count": 78,
   "metadata": {},
   "outputs": [
    {
     "data": {
      "text/plain": [
       "0.00035"
      ]
     },
     "execution_count": 78,
     "metadata": {},
     "output_type": "execute_result"
    }
   ],
   "source": []
  },
  {
   "cell_type": "code",
   "execution_count": 79,
   "metadata": {},
   "outputs": [
    {
     "data": {
      "text/plain": [
       "0.0024822695035460994"
      ]
     },
     "execution_count": 79,
     "metadata": {},
     "output_type": "execute_result"
    }
   ],
   "source": [
    "0.00035/0.141"
   ]
  },
  {
   "cell_type": "code",
   "execution_count": 44,
   "metadata": {},
   "outputs": [
    {
     "data": {
      "text/plain": [
       "(array([1819.,    0.,    0.,  626.,    0.,    0.,  342.,    0.,  234.,\n",
       "           0.,    0.,  169.,    0.,  134.,    0.,  106.,    0.,   88.,\n",
       "           0.,   76.,    0.,   56.,   49.,    0.,   50.,   39.,    0.,\n",
       "          41.,   22.,    0.,   31.,   19.,   18.,   17.,   20.,   15.,\n",
       "          14.,    8.,   20.,   18.,   11.,    8.,   25.,    9.,   12.,\n",
       "          18.,   29.,   16.,   42.,   56.]),\n",
       " array([0.08079314, 0.09917727, 0.11756141, 0.13594555, 0.15432969,\n",
       "        0.17271382, 0.19109796, 0.2094821 , 0.22786623, 0.24625037,\n",
       "        0.26463451, 0.28301865, 0.30140278, 0.31978692, 0.33817106,\n",
       "        0.3565552 , 0.37493933, 0.39332347, 0.41170761, 0.43009174,\n",
       "        0.44847588, 0.46686002, 0.48524416, 0.50362829, 0.52201243,\n",
       "        0.54039657, 0.55878071, 0.57716484, 0.59554898, 0.61393312,\n",
       "        0.63231725, 0.65070139, 0.66908553, 0.68746967, 0.7058538 ,\n",
       "        0.72423794, 0.74262208, 0.76100622, 0.77939035, 0.79777449,\n",
       "        0.81615863, 0.83454276, 0.8529269 , 0.87131104, 0.88969518,\n",
       "        0.90807931, 0.92646345, 0.94484759, 0.96323173, 0.98161586,\n",
       "        1.        ]),\n",
       " <BarContainer object of 50 artists>)"
      ]
     },
     "execution_count": 44,
     "metadata": {},
     "output_type": "execute_result"
    },
    {
     "data": {
      "image/png": "[encoded data removed]",
      "text/plain": [
       "<Figure size 432x288 with 1 Axes>"
      ]
     },
     "metadata": {
      "needs_background": "light"
     },
     "output_type": "display_data"
    }
   ],
   "source": [
    "plt.hist(k, bins=50)"
   ]
  },
  {
   "cell_type": "code",
   "execution_count": 52,
   "metadata": {},
   "outputs": [
    {
     "data": {
      "text/plain": [
       "[0,\n",
       " 0,\n",
       " 0,\n",
       " 0,\n",
       " 0,\n",
       " 0,\n",
       " 0,\n",
       " 0,\n",
       " 0,\n",
       " 0,\n",
       " 0,\n",
       " 0,\n",
       " 0,\n",
       " 0,\n",
       " 0,\n",
       " 0,\n",
       " 0,\n",
       " 0,\n",
       " 0.08079313589591118,\n",
       " 0.557438185027989,\n",
       " 0.08079313589591118,\n",
       " 0,\n",
       " 0.08079313589591118,\n",
       " 0,\n",
       " 0,\n",
       " 0.28639695711595625,\n",
       " 0,\n",
       " 0,\n",
       " 0,\n",
       " 0,\n",
       " 0,\n",
       " 0,\n",
       " 0,\n",
       " 0,\n",
       " 0.08079313589591118,\n",
       " 0,\n",
       " 0,\n",
       " 0,\n",
       " 0,\n",
       " 0,\n",
       " 0,\n",
       " 0.6343095546405662,\n",
       " 0,\n",
       " 0,\n",
       " 0,\n",
       " 0,\n",
       " 0,\n",
       " 0,\n",
       " 0.14144054254182067,\n",
       " 0,\n",
       " 0,\n",
       " 0,\n",
       " 0,\n",
       " 0,\n",
       " 0,\n",
       " 0,\n",
       " 0.08079313589591118,\n",
       " 0,\n",
       " 0.28639695711595625,\n",
       " 0,\n",
       " 0,\n",
       " 0,\n",
       " 0,\n",
       " 0,\n",
       " 0,\n",
       " 0,\n",
       " 0,\n",
       " 0,\n",
       " 0,\n",
       " 0.4021791902022728,\n",
       " 0,\n",
       " 0,\n",
       " 0.1943918578315762,\n",
       " 0,\n",
       " 0,\n",
       " 0,\n",
       " 0,\n",
       " 0.14144054254182067,\n",
       " 0,\n",
       " 0,\n",
       " 0.8687212463394045,\n",
       " 0.14144054254182067,\n",
       " 0,\n",
       " 0,\n",
       " 0,\n",
       " 0,\n",
       " 0,\n",
       " 0,\n",
       " 0.08079313589591118,\n",
       " 0.1943918578315762,\n",
       " 0,\n",
       " 0,\n",
       " 0.08079313589591118,\n",
       " 0.08079313589591118,\n",
       " 0,\n",
       " 0.08079313589591118,\n",
       " 0,\n",
       " 0,\n",
       " 0,\n",
       " 0.499915958164528,\n",
       " 0,\n",
       " 0,\n",
       " 0,\n",
       " 0,\n",
       " 0,\n",
       " 0,\n",
       " 0,\n",
       " 0,\n",
       " 0,\n",
       " 0,\n",
       " 0,\n",
       " 0,\n",
       " 0,\n",
       " 0.08079313589591118,\n",
       " 0.08079313589591118,\n",
       " 0,\n",
       " 0,\n",
       " 0,\n",
       " 0,\n",
       " 0,\n",
       " 0,\n",
       " 0,\n",
       " 0,\n",
       " 0,\n",
       " 0,\n",
       " 0,\n",
       " 0,\n",
       " 0.08079313589591118,\n",
       " 0,\n",
       " 0,\n",
       " 0,\n",
       " 0,\n",
       " 0,\n",
       " 0,\n",
       " 0,\n",
       " 0,\n",
       " 0,\n",
       " 0,\n",
       " 0,\n",
       " 0,\n",
       " 0,\n",
       " 0.08079313589591118,\n",
       " 0,\n",
       " 0.1943918578315762,\n",
       " 0.08079313589591118,\n",
       " 0,\n",
       " 0,\n",
       " 0.1943918578315762,\n",
       " 0,\n",
       " 0,\n",
       " 0,\n",
       " 0,\n",
       " 0.08079313589591118,\n",
       " 0,\n",
       " 0,\n",
       " 0,\n",
       " 0.1943918578315762,\n",
       " 0.1943918578315762,\n",
       " 0.08079313589591118,\n",
       " 0,\n",
       " 0,\n",
       " 0,\n",
       " 0,\n",
       " 0,\n",
       " 0.08079313589591118,\n",
       " 0,\n",
       " 0.36592365090022333,\n",
       " 0,\n",
       " 0,\n",
       " 0,\n",
       " 0,\n",
       " 0,\n",
       " 0.14144054254182067,\n",
       " 0,\n",
       " 0,\n",
       " 0.4021791902022728,\n",
       " 0,\n",
       " 0,\n",
       " 0,\n",
       " 0,\n",
       " 0,\n",
       " 0,\n",
       " 0,\n",
       " 0,\n",
       " 0,\n",
       " 0,\n",
       " 0,\n",
       " 0,\n",
       " 0.9426831892554922,\n",
       " 0,\n",
       " 0.08079313589591118,\n",
       " 0,\n",
       " 0,\n",
       " 0.14144054254182067,\n",
       " 0,\n",
       " 0,\n",
       " 0,\n",
       " 0.08079313589591118,\n",
       " 0,\n",
       " 0.28639695711595625,\n",
       " 0,\n",
       " 0,\n",
       " 0,\n",
       " 0,\n",
       " 0.08079313589591124,\n",
       " 0.14144054254182067,\n",
       " 0.24229218908241482,\n",
       " 0,\n",
       " 0.6343095546405662,\n",
       " 0,\n",
       " 0,\n",
       " 0,\n",
       " 0.08079313589591118,\n",
       " 0,\n",
       " 0.9647995485050872,\n",
       " 0,\n",
       " 0,\n",
       " 0,\n",
       " 0,\n",
       " 0,\n",
       " 0,\n",
       " 0,\n",
       " 0,\n",
       " 0,\n",
       " 0,\n",
       " 0.14144054254182067,\n",
       " 0,\n",
       " 0,\n",
       " 0.1943918578315762,\n",
       " 0,\n",
       " 0.1943918578315762,\n",
       " 0,\n",
       " 0,\n",
       " 0,\n",
       " 0,\n",
       " 0,\n",
       " 0,\n",
       " 0,\n",
       " 0,\n",
       " 0,\n",
       " 0.08079313589591118,\n",
       " 0,\n",
       " 0.08079313589591118,\n",
       " 0,\n",
       " 0,\n",
       " 0,\n",
       " 0.08079313589591118,\n",
       " 0.1943918578315762,\n",
       " 0,\n",
       " 0,\n",
       " 0,\n",
       " 0,\n",
       " 0,\n",
       " 0,\n",
       " 0,\n",
       " 0,\n",
       " 0,\n",
       " 0.08079313589591118,\n",
       " 0,\n",
       " 0,\n",
       " 0,\n",
       " 0,\n",
       " 0,\n",
       " 0.08079313589591118,\n",
       " 0,\n",
       " 0,\n",
       " 0,\n",
       " 0.1943918578315762,\n",
       " 0.08079313589591118,\n",
       " 0,\n",
       " 0,\n",
       " 0,\n",
       " 0.08079313589591118,\n",
       " 0,\n",
       " 0,\n",
       " 0,\n",
       " 0,\n",
       " 0,\n",
       " 0,\n",
       " 0,\n",
       " 0,\n",
       " 0,\n",
       " 0,\n",
       " 0.28639695711595625,\n",
       " 0,\n",
       " 0,\n",
       " 0,\n",
       " 0.4021791902022728,\n",
       " 0,\n",
       " 0.08079313589591118,\n",
       " 0,\n",
       " 0,\n",
       " 0,\n",
       " 0.08079313589591118,\n",
       " 0,\n",
       " 0,\n",
       " 0,\n",
       " 0,\n",
       " 0,\n",
       " 0.584238811642856,\n",
       " 0,\n",
       " 0,\n",
       " 0,\n",
       " 0.14144054254182067,\n",
       " 0,\n",
       " 0,\n",
       " 0.08079313589591118,\n",
       " 0,\n",
       " 0,\n",
       " 0,\n",
       " 0,\n",
       " 0,\n",
       " 0.4021791902022728,\n",
       " 0.08079313589591118,\n",
       " 0,\n",
       " 0,\n",
       " 0,\n",
       " 0,\n",
       " 0,\n",
       " 0,\n",
       " 0.08079313589591118,\n",
       " 0,\n",
       " 0,\n",
       " 0.08079313589591118,\n",
       " 0,\n",
       " 0.584238811642856,\n",
       " 0,\n",
       " 0,\n",
       " 0.28639695711595625,\n",
       " 0,\n",
       " 0,\n",
       " 0,\n",
       " 0,\n",
       " 0,\n",
       " 0,\n",
       " 0,\n",
       " 0,\n",
       " 0.9709505944546686,\n",
       " 0,\n",
       " 0,\n",
       " 0,\n",
       " 0,\n",
       " 0,\n",
       " 0,\n",
       " 0,\n",
       " 0,\n",
       " 0.499915958164528,\n",
       " 0,\n",
       " 0,\n",
       " 0,\n",
       " 0,\n",
       " 0,\n",
       " 0,\n",
       " 0,\n",
       " 0,\n",
       " 0,\n",
       " 0,\n",
       " 0,\n",
       " 0,\n",
       " 0,\n",
       " 0,\n",
       " 0,\n",
       " 0,\n",
       " 0,\n",
       " 0,\n",
       " 0,\n",
       " 0,\n",
       " 0,\n",
       " 0,\n",
       " 0.08079313589591118,\n",
       " 0,\n",
       " 0,\n",
       " 0.24229218908241482,\n",
       " 0,\n",
       " 0,\n",
       " 0,\n",
       " 0,\n",
       " 0,\n",
       " 0,\n",
       " 0,\n",
       " 0.08079313589591118,\n",
       " 0,\n",
       " 0,\n",
       " 0.08079313589591118,\n",
       " 0,\n",
       " 0.1943918578315762,\n",
       " 0,\n",
       " 0,\n",
       " 0,\n",
       " 0,\n",
       " 0,\n",
       " 0,\n",
       " 0,\n",
       " 0,\n",
       " 0,\n",
       " 0.08079313589591118,\n",
       " 0,\n",
       " 0,\n",
       " 0,\n",
       " 0,\n",
       " 0,\n",
       " 0.5293608652873644,\n",
       " 0,\n",
       " 0,\n",
       " 0.14144054254182067,\n",
       " 0,\n",
       " 0,\n",
       " 0,\n",
       " 0.499915958164528,\n",
       " 0.08079313589591118,\n",
       " 0,\n",
       " 0,\n",
       " 0,\n",
       " 0,\n",
       " 0,\n",
       " 0,\n",
       " 0.08079313589591118,\n",
       " 0,\n",
       " 0,\n",
       " 0,\n",
       " 0,\n",
       " 0,\n",
       " 0.08079313589591118,\n",
       " 0,\n",
       " 0.08079313589591118,\n",
       " 0,\n",
       " 0,\n",
       " 0.24229218908241482,\n",
       " 0,\n",
       " 0,\n",
       " 0.14144054254182067,\n",
       " 0,\n",
       " 0,\n",
       " 0.08079313589591118,\n",
       " 0,\n",
       " 0,\n",
       " 0,\n",
       " 0,\n",
       " 0,\n",
       " 0,\n",
       " 0,\n",
       " 0.08079313589591118,\n",
       " 0,\n",
       " 0.28639695711595625,\n",
       " 0,\n",
       " 0,\n",
       " 0,\n",
       " 0,\n",
       " 0,\n",
       " 0,\n",
       " 0.1943918578315762,\n",
       " 0,\n",
       " 0,\n",
       " 0.14144054254182067,\n",
       " 0,\n",
       " 0,\n",
       " 0,\n",
       " 0,\n",
       " 0,\n",
       " 0,\n",
       " 0.32744491915447627,\n",
       " 0,\n",
       " 0,\n",
       " 0,\n",
       " 0,\n",
       " 0.14144054254182067,\n",
       " 0,\n",
       " 0.08079313589591118,\n",
       " 0,\n",
       " 0.24229218908241482,\n",
       " 0,\n",
       " 0,\n",
       " 0,\n",
       " 0,\n",
       " 0.14144054254182067,\n",
       " 0,\n",
       " 0.32744491915447627,\n",
       " 0,\n",
       " 0,\n",
       " 0,\n",
       " 0.08079313589591118,\n",
       " 0,\n",
       " 0,\n",
       " 0,\n",
       " 0,\n",
       " 0,\n",
       " 0,\n",
       " 0.4689955935892812,\n",
       " 0,\n",
       " 0,\n",
       " 0,\n",
       " 0.08079313589591118,\n",
       " 0,\n",
       " 0,\n",
       " 0,\n",
       " 0,\n",
       " 0,\n",
       " 0,\n",
       " 0,\n",
       " 0,\n",
       " 0,\n",
       " 0.1943918578315762,\n",
       " 0.14144054254182067,\n",
       " 0,\n",
       " 0,\n",
       " 0,\n",
       " 0,\n",
       " 0.24229218908241482,\n",
       " 0,\n",
       " 0,\n",
       " 0,\n",
       " 0.14144054254182067,\n",
       " 0,\n",
       " 0,\n",
       " 0,\n",
       " 0.28639695711595625,\n",
       " 0.08079313589591118,\n",
       " 0.08079313589591118,\n",
       " 0,\n",
       " 0.28639695711595625,\n",
       " 0,\n",
       " 0,\n",
       " 0,\n",
       " 0,\n",
       " 0,\n",
       " 0.08079313589591118,\n",
       " 0,\n",
       " 0,\n",
       " 0,\n",
       " 0,\n",
       " 0,\n",
       " 0,\n",
       " 0.08079313589591118,\n",
       " 0,\n",
       " 0,\n",
       " 0,\n",
       " 0,\n",
       " 0.08079313589591118,\n",
       " 0,\n",
       " 0.08079313589591118,\n",
       " 0,\n",
       " 0,\n",
       " 0,\n",
       " 0,\n",
       " 0,\n",
       " 0,\n",
       " 0,\n",
       " 0,\n",
       " 0,\n",
       " 0,\n",
       " 0,\n",
       " 0.9248187049730301,\n",
       " 0,\n",
       " 0,\n",
       " 0,\n",
       " 0.14144054254182067,\n",
       " 0.08079313589591118,\n",
       " 0,\n",
       " 0,\n",
       " 0,\n",
       " 0,\n",
       " 0,\n",
       " 0,\n",
       " 0,\n",
       " 0,\n",
       " 0,\n",
       " 0,\n",
       " 0,\n",
       " 0,\n",
       " 0,\n",
       " 0,\n",
       " 0,\n",
       " 0,\n",
       " 0,\n",
       " 0,\n",
       " 0.14144054254182067,\n",
       " 0,\n",
       " 0,\n",
       " 0,\n",
       " 0,\n",
       " 0,\n",
       " 0.08079313589591118,\n",
       " 0,\n",
       " 0,\n",
       " 0.08079313589591118,\n",
       " 0.43646981706410287,\n",
       " 0,\n",
       " 0,\n",
       " 0.36592365090022333,\n",
       " 0,\n",
       " 0.24229218908241482,\n",
       " 0,\n",
       " 0,\n",
       " 0,\n",
       " 0.28639695711595625,\n",
       " 0,\n",
       " 0,\n",
       " 0,\n",
       " 0,\n",
       " 0,\n",
       " 0,\n",
       " 0,\n",
       " 0,\n",
       " 0,\n",
       " 0,\n",
       " 0,\n",
       " 0,\n",
       " 0,\n",
       " 0.08079313589591118,\n",
       " 0,\n",
       " 0,\n",
       " 0.4689955935892812,\n",
       " 0,\n",
       " 0,\n",
       " 0,\n",
       " 0,\n",
       " 0.28639695711595625,\n",
       " 0,\n",
       " 0,\n",
       " 0,\n",
       " 0,\n",
       " 0,\n",
       " 0.14144054254182067,\n",
       " 0,\n",
       " 0,\n",
       " 0,\n",
       " 0,\n",
       " 0.08079313589591118,\n",
       " 0,\n",
       " 0,\n",
       " 0,\n",
       " 0,\n",
       " 0,\n",
       " 0,\n",
       " 0,\n",
       " 0,\n",
       " 0,\n",
       " 0,\n",
       " 0,\n",
       " 0,\n",
       " 0,\n",
       " 0,\n",
       " 0.8687212463394045,\n",
       " 0,\n",
       " 0,\n",
       " 0,\n",
       " 0,\n",
       " 0,\n",
       " 0,\n",
       " 0,\n",
       " 0,\n",
       " 0.28639695711595625,\n",
       " 0,\n",
       " 0,\n",
       " 0,\n",
       " 0,\n",
       " 0,\n",
       " 0,\n",
       " 0,\n",
       " 0,\n",
       " 0,\n",
       " 0,\n",
       " 0.28639695711595625,\n",
       " 0.24229218908241482,\n",
       " 0,\n",
       " 0,\n",
       " 0,\n",
       " 0.08079313589591118,\n",
       " 0,\n",
       " 0,\n",
       " 0,\n",
       " 0,\n",
       " 0,\n",
       " 0,\n",
       " 0,\n",
       " 0,\n",
       " 0,\n",
       " 0.9927744539878083,\n",
       " 0,\n",
       " 0,\n",
       " 0,\n",
       " 0,\n",
       " 0,\n",
       " 0.14144054254182067,\n",
       " 0,\n",
       " 0,\n",
       " 0,\n",
       " 0.08079313589591118,\n",
       " 0.14144054254182067,\n",
       " 0,\n",
       " 0,\n",
       " 0.32744491915447627,\n",
       " 0.14144054254182067,\n",
       " 0,\n",
       " 0,\n",
       " 0,\n",
       " 0,\n",
       " 0,\n",
       " 0,\n",
       " 0,\n",
       " 0,\n",
       " 0,\n",
       " 0,\n",
       " 0,\n",
       " 0,\n",
       " 0.08079313589591118,\n",
       " 0,\n",
       " 0.08079313589591118,\n",
       " 0.08079313589591118,\n",
       " 0,\n",
       " 0,\n",
       " 0,\n",
       " 0,\n",
       " 0,\n",
       " 0,\n",
       " 0,\n",
       " 0,\n",
       " 0.08079313589591118,\n",
       " 0,\n",
       " 0,\n",
       " 0,\n",
       " 0,\n",
       " 0.08079313589591118,\n",
       " 0,\n",
       " 0,\n",
       " 0,\n",
       " 0,\n",
       " 0,\n",
       " 0,\n",
       " 0,\n",
       " 0,\n",
       " 0.28639695711595625,\n",
       " 0.32744491915447627,\n",
       " 0,\n",
       " 0,\n",
       " 0,\n",
       " 0,\n",
       " 0,\n",
       " 0,\n",
       " 0,\n",
       " 0.14144054254182067,\n",
       " 0,\n",
       " 0,\n",
       " 0.08079313589591118,\n",
       " 0.7414827399312737,\n",
       " 0,\n",
       " 0,\n",
       " 0,\n",
       " 0,\n",
       " 0,\n",
       " 0,\n",
       " 0,\n",
       " 0,\n",
       " 0,\n",
       " 0.08079313589591118,\n",
       " 0,\n",
       " 0,\n",
       " 0,\n",
       " 0,\n",
       " 0.14144054254182067,\n",
       " 0.08079313589591118,\n",
       " 0.08079313589591118,\n",
       " 0,\n",
       " 0,\n",
       " 0.14144054254182067,\n",
       " 0,\n",
       " 0.08079313589591118,\n",
       " 0,\n",
       " 0,\n",
       " 0,\n",
       " 0,\n",
       " 0,\n",
       " 0,\n",
       " 0,\n",
       " 0,\n",
       " 0,\n",
       " 0,\n",
       " 0,\n",
       " 0,\n",
       " 0.9997114417528099,\n",
       " 0,\n",
       " 0,\n",
       " 0,\n",
       " 0,\n",
       " 0,\n",
       " 0,\n",
       " 0,\n",
       " 0,\n",
       " 0.1943918578315762,\n",
       " 0.4021791902022728,\n",
       " 0,\n",
       " 0,\n",
       " 0,\n",
       " 0.7219280948873623,\n",
       " 0.14144054254182067,\n",
       " 0,\n",
       " 0,\n",
       " 0,\n",
       " 0,\n",
       " 0.14144054254182067,\n",
       " 0,\n",
       " 0,\n",
       " 0,\n",
       " 0,\n",
       " 0,\n",
       " 0,\n",
       " 0,\n",
       " 0,\n",
       " 0,\n",
       " 0,\n",
       " 0,\n",
       " 0,\n",
       " 0,\n",
       " 0,\n",
       " 0,\n",
       " 0,\n",
       " 0,\n",
       " 0,\n",
       " 0,\n",
       " 0,\n",
       " 0,\n",
       " 0,\n",
       " 0,\n",
       " 0,\n",
       " 0,\n",
       " 0,\n",
       " 0,\n",
       " 0,\n",
       " 0,\n",
       " 0,\n",
       " 0.08079313589591118,\n",
       " 0,\n",
       " 0,\n",
       " 0,\n",
       " 0,\n",
       " 0,\n",
       " 0,\n",
       " 0,\n",
       " 0,\n",
       " 0,\n",
       " 0,\n",
       " 0,\n",
       " 0.08079313589591118,\n",
       " 0,\n",
       " 0,\n",
       " 0,\n",
       " 0.08079313589591118,\n",
       " 0,\n",
       " 0,\n",
       " 0,\n",
       " 0,\n",
       " 0,\n",
       " 0,\n",
       " 0.36592365090022333,\n",
       " 0.08079313589591118,\n",
       " 0,\n",
       " 0.36592365090022333,\n",
       " 0,\n",
       " 0,\n",
       " 0,\n",
       " 0,\n",
       " 0,\n",
       " 0.14144054254182067,\n",
       " 0,\n",
       " 0.1943918578315762,\n",
       " 0.32744491915447627,\n",
       " 0.1943918578315762,\n",
       " 0.36592365090022333,\n",
       " 0,\n",
       " 0,\n",
       " 0,\n",
       " 0,\n",
       " 0,\n",
       " 0,\n",
       " 0,\n",
       " 0.08079313589591118,\n",
       " 0.08079313589591118,\n",
       " 0.1943918578315762,\n",
       " 0.08079313589591118,\n",
       " 0,\n",
       " 0,\n",
       " 0,\n",
       " 0,\n",
       " 0,\n",
       " 0.32744491915447627,\n",
       " 0,\n",
       " 0,\n",
       " 0.6343095546405662,\n",
       " 0,\n",
       " 0.1943918578315762,\n",
       " 0,\n",
       " 0.08079313589591118,\n",
       " 0,\n",
       " 0,\n",
       " 0,\n",
       " 0,\n",
       " 0,\n",
       " 0,\n",
       " 0,\n",
       " 0,\n",
       " 0.14144054254182067,\n",
       " 0,\n",
       " 0.9997114417528099,\n",
       " 0,\n",
       " 0,\n",
       " 0,\n",
       " 0,\n",
       " 0.43646981706410287,\n",
       " 0,\n",
       " 0,\n",
       " 0,\n",
       " 0,\n",
       " 0,\n",
       " 0,\n",
       " 0,\n",
       " 0,\n",
       " 0,\n",
       " 0,\n",
       " 0,\n",
       " 0,\n",
       " 0,\n",
       " 0,\n",
       " 0,\n",
       " 0.08079313589591118,\n",
       " 0,\n",
       " 0,\n",
       " 0.08079313589591118,\n",
       " 0,\n",
       " 0,\n",
       " 0.08079313589591118,\n",
       " 0,\n",
       " 0,\n",
       " 0,\n",
       " 0,\n",
       " 0,\n",
       " 0,\n",
       " 0,\n",
       " 0.08079313589591118,\n",
       " 0,\n",
       " 0,\n",
       " 0,\n",
       " 0,\n",
       " 0,\n",
       " 0.14144054254182067,\n",
       " 0.14144054254182067,\n",
       " 0,\n",
       " 0.08079313589591118,\n",
       " 0,\n",
       " 0,\n",
       " 0,\n",
       " 0,\n",
       " 0,\n",
       " 0,\n",
       " 0,\n",
       " 0,\n",
       " 0,\n",
       " 0,\n",
       " 0,\n",
       " 0,\n",
       " 0.28639695711595625,\n",
       " 0,\n",
       " 0.08079313589591118,\n",
       " 0,\n",
       " 0,\n",
       " 0.08079313589591118,\n",
       " 0,\n",
       " 0,\n",
       " 0,\n",
       " 0,\n",
       " 0,\n",
       " 0,\n",
       " 0,\n",
       " 0,\n",
       " 0,\n",
       " 0,\n",
       " 0,\n",
       " 0,\n",
       " 0,\n",
       " 0,\n",
       " 0,\n",
       " 0,\n",
       " 0,\n",
       " 0,\n",
       " 0,\n",
       " 0,\n",
       " 0,\n",
       " 0.08079313589591118,\n",
       " 0.14144054254182067,\n",
       " 0,\n",
       " 0.08079313589591118,\n",
       " 0.08079313589591118,\n",
       " 0,\n",
       " 0,\n",
       " 0,\n",
       " 0,\n",
       " 0.08079313589591118,\n",
       " 0.08079313589591118,\n",
       " 0,\n",
       " 0,\n",
       " 0,\n",
       " ...]"
      ]
     },
     "execution_count": 52,
     "metadata": {},
     "output_type": "execute_result"
    }
   ],
   "source": [
    "k"
   ]
  },
  {
   "cell_type": "code",
   "execution_count": 58,
   "metadata": {},
   "outputs": [
    {
     "data": {
      "image/png": "[encoded data removed]",
      "text/plain": [
       "<Figure size 720x720 with 2 Axes>"
      ]
     },
     "metadata": {
      "needs_background": "light"
     },
     "output_type": "display_data"
    }
   ],
   "source": [
    "idx = np.where(preds>0.5)[0]\n",
    "plot_histograms(np.array(k), idx)"
   ]
  },
  {
   "cell_type": "code",
   "execution_count": 59,
   "metadata": {},
   "outputs": [
    {
     "data": {
      "image/png": "[encoded data removed]",
      "text/plain": [
       "<Figure size 720x720 with 2 Axes>"
      ]
     },
     "metadata": {
      "needs_background": "light"
     },
     "output_type": "display_data"
    }
   ],
   "source": [
    "plot_histograms(laplace_var, idx)"
   ]
  },
  {
   "cell_type": "code",
   "execution_count": 60,
   "metadata": {},
   "outputs": [
    {
     "data": {
      "image/png": "[encoded data removed]",
      "text/plain": [
       "<Figure size 720x720 with 2 Axes>"
      ]
     },
     "metadata": {
      "needs_background": "light"
     },
     "output_type": "display_data"
    }
   ],
   "source": [
    "plot_histograms(entropy(preds), idx)"
   ]
  },
  {
   "cell_type": "code",
   "execution_count": 61,
   "metadata": {},
   "outputs": [
    {
     "data": {
      "image/png": "[encoded data removed]",
      "text/plain": [
       "<Figure size 720x720 with 2 Axes>"
      ]
     },
     "metadata": {
      "needs_background": "light"
     },
     "output_type": "display_data"
    }
   ],
   "source": [
    "plot_histograms(entropy(dropout_mean), idx)"
   ]
  },
  {
   "cell_type": "code",
   "execution_count": 62,
   "metadata": {},
   "outputs": [
    {
     "data": {
      "image/png": "[encoded data removed]",
      "text/plain": [
       "<Figure size 720x720 with 2 Axes>"
      ]
     },
     "metadata": {
      "needs_background": "light"
     },
     "output_type": "display_data"
    }
   ],
   "source": [
    "plot_histograms(entropy(laplace_mean), idx)"
   ]
  },
  {
   "cell_type": "markdown",
   "metadata": {},
   "source": [
    "# Niepewność tak samo odległych"
   ]
  },
  {
   "cell_type": "code",
   "execution_count": null,
   "metadata": {},
   "outputs": [],
   "source": [
    "plt.hist(dists)"
   ]
  },
  {
   "cell_type": "code",
   "execution_count": null,
   "metadata": {},
   "outputs": [],
   "source": [
    "idx = np.where(np.abs(np.array(dists)-0.05) < 0.001)\n",
    "plot_histograms(dropout_var, idx, preds)"
   ]
  },
  {
   "cell_type": "code",
   "execution_count": null,
   "metadata": {},
   "outputs": [],
   "source": [
    "plot_histograms(laplace_var, idx, preds)"
   ]
  },
  {
   "cell_type": "code",
   "execution_count": null,
   "metadata": {},
   "outputs": [],
   "source": [
    "plot_histograms(laplace_var, idx)"
   ]
  },
  {
   "cell_type": "code",
   "execution_count": null,
   "metadata": {},
   "outputs": [],
   "source": [
    "plt.hist(dropout_var[np.where(preds>0.7)[0]])"
   ]
  },
  {
   "cell_type": "code",
   "execution_count": null,
   "metadata": {},
   "outputs": [],
   "source": [
    "plt.hist(dropout_var)"
   ]
  },
  {
   "cell_type": "code",
   "execution_count": null,
   "metadata": {},
   "outputs": [],
   "source": [
    "plt.hist(dists)"
   ]
  },
  {
   "cell_type": "code",
   "execution_count": null,
   "metadata": {},
   "outputs": [],
   "source": [
    "idx = np.where(np.abs(np.array(dists)-0.05) < 0.001)"
   ]
  },
  {
   "cell_type": "code",
   "execution_count": null,
   "metadata": {},
   "outputs": [],
   "source": [
    "fig, (ax1, ax2) = plt.subplots(2, figsize=(10,10))\n",
    "ax1.hist(dropout_var[idx])\n",
    "ax2.hist(dropout_var)"
   ]
  },
  {
   "cell_type": "code",
   "execution_count": null,
   "metadata": {
    "scrolled": true
   },
   "outputs": [],
   "source": [
    "fig, (ax1, ax2) = plt.subplots(1,2)\n",
    "ax1.hist(laplace_var[idx])\n",
    "ax2.hist(laplace_var)"
   ]
  },
  {
   "cell_type": "markdown",
   "metadata": {},
   "source": [
    "# Complexity measure"
   ]
  },
  {
   "cell_type": "code",
   "execution_count": 2,
   "metadata": {},
   "outputs": [],
   "source": [
    "from math import pi\n",
    "from scipy.special import logsumexp\n",
    "import numpy as np\n",
    "\n",
    "\n",
    "# This class is used to calculate the effective dimension of a model (classical or quantum)\n",
    "# It implicitly computed the normalised Fisher information (which is called fhat) and then computes the eff dimension\n",
    "\n",
    "\n",
    "class EffectiveDimension:\n",
    "    def __init__(self, model, num_thetas, num_inputs):\n",
    "        \"\"\"\n",
    "        Computes the effective dimension for a parameterised model.\n",
    "        :param model: class instance\n",
    "        :param num_thetas: int, number of parameter sets to include\n",
    "        :param num_inputs: int, number of input samples to include\n",
    "        \"\"\"\n",
    "        np.random.seed(0)\n",
    "        self.model = model\n",
    "        self.d = model.d\n",
    "        self.num_thetas = num_thetas\n",
    "        self.num_inputs = num_inputs\n",
    "        # Stack data together and combine parameter sets to make calcs more efficient\n",
    "        rep_range = np.tile(np.array([num_inputs]), num_thetas)\n",
    "        params = np.random.uniform(self.model.thetamin, self.model.thetamax, size=(self.num_thetas, model.d))\n",
    "        self.params = np.repeat(params, repeats=rep_range, axis=0)\n",
    "        x = np.random.normal(0, 1, size=(self.num_inputs, self.model.inputsize))\n",
    "        self.x = np.tile(x, (self.num_thetas, 1))\n",
    "\n",
    "    def get_fhat(self):\n",
    "        \"\"\"\n",
    "        :return: ndarray, f_hat values of size (num_inputs, d, d)\n",
    "        \"\"\"\n",
    "        grads = self.model.get_gradient(params=self.params, x=self.x)  # get gradients, dp_theta\n",
    "        output = self.model.forward(params=self.params, x=self.x)  # get model output\n",
    "        fishers = self.model.get_fisher(gradients=grads, model_output=output)\n",
    "        fisher_trace = np.trace(np.average(fishers, axis=0))  # compute the trace with all fishers\n",
    "        # average the fishers over the num_inputs to get the empirical fishers\n",
    "        fisher = np.average(np.reshape(fishers, (self.num_thetas, self.num_inputs, self.d, self.d)), axis=1)\n",
    "        f_hat = self.d * fisher / fisher_trace  # calculate f_hats for all the empirical fishers\n",
    "        return f_hat, fisher_trace\n",
    "\n",
    "    def eff_dim(self, f_hat, n):\n",
    "        \"\"\"\n",
    "        Compute the effective dimension.\n",
    "        :param f_hat: ndarray\n",
    "        :param n: list, used to represent number of data samples available as per the effective dimension calc\n",
    "        :return: list, effective dimension for each n\n",
    "        \"\"\"\n",
    "        effective_dim = []\n",
    "        for ns in n:\n",
    "            Fhat = f_hat * ns / (2 * pi * np.log(ns))\n",
    "            one_plus_F = np.eye(self.d) + Fhat\n",
    "            det = np.linalg.slogdet(one_plus_F)[1]  # log det because of overflow\n",
    "            r = det / 2  # divide by 2 because of sqrt\n",
    "            effective_dim.append(2 * (logsumexp(r) - np.log(self.num_thetas)) / np.log(ns / (2 * pi * np.log(ns))))\n",
    "        return effective_dim"
   ]
  },
  {
   "cell_type": "code",
   "execution_count": null,
   "metadata": {},
   "outputs": [],
   "source": [
    "ed_conv1d = EffectiveDimension(a, 100, 100)"
   ]
  },
  {
   "cell_type": "code",
   "execution_count": 19,
   "metadata": {},
   "outputs": [],
   "source": [
    "a.thetamin = 0\n",
    "a.thetamax = 1\n",
    "b.thetamin = 0\n",
    "b.thetamax = 1\n"
   ]
  },
  {
   "cell_type": "code",
   "execution_count": null,
   "metadata": {},
   "outputs": [],
   "source": [
    "ad_b  = EffectiveDimension(a, 100, 100)"
   ]
  }
 ],
 "metadata": {
  "kernelspec": {
   "display_name": "Python 3 (ipykernel)",
   "language": "python",
   "name": "python3"
  },
  "language_info": {
   "codemirror_mode": {
    "name": "ipython",
    "version": 3
   },
   "file_extension": ".py",
   "mimetype": "text/x-python",
   "name": "python",
   "nbconvert_exporter": "python",
   "pygments_lexer": "ipython3",
   "version": "3.8.10"
  }
 },
 "nbformat": 4,
 "nbformat_minor": 1
}